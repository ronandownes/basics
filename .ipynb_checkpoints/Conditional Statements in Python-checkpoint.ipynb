{
 "cells": [
  {
   "cell_type": "markdown",
   "id": "e4949547",
   "metadata": {},
   "source": [
    "git add . && git commit -m \"Update files\" && git push origin main\n",
    "\n",
    "\n",
    "\n",
    "In addition to the `while` loop, Python has several other conditional statements that are commonly used:\n",
    "\n",
    "1. `if` statement: The `if` statement is used to execute a block of code only if a certain condition is true. It is often followed by an optional `elif` (short for \"else if\") statement to specify additional conditions, and an optional `else` statement to specify what should happen if none of the conditions are met.\n",
    "\n",
    "2. `for` loop: The `for` loop is used to iterate over a sequence (such as a list, tuple, or string) or other iterable objects. It allows you to execute a block of code for each item in the sequence.\n",
    "\n",
    "3. `try`-`except` statement: The `try`-`except` statement is used for exception handling. It allows you to handle specific types of exceptions that may occur in your code. The `try` block contains the code that might raise an exception, and the `except` block specifies how to handle the exception if it occurs.\n",
    "\n",
    "4. `break` statement: The `break` statement is used to exit a loop prematurely. When encountered within a loop, it immediately terminates the loop and control moves to the next statement after the loop.\n",
    "\n",
    "5. `continue` statement: The `continue` statement is used to skip the rest of the current iteration in a loop and move on to the next iteration. It causes the loop to go to the next iteration without executing the remaining code in the loop body.\n",
    "\n",
    "6. `pass` statement: The `pass` statement is used as a placeholder when a statement is required syntactically but you don't want to perform any action. It is often used as a placeholder for code that will be implemented later.\n",
    "\n",
    "These are some of the most commonly used conditional statements in Python. They allow you to control the flow of your program based on certain conditions or iterate over sequences of data."
   ]
  },
  {
   "cell_type": "code",
   "execution_count": 13,
   "id": "050bc342",
   "metadata": {},
   "outputs": [],
   "source": [
    "# pip install num2words\n",
    "# \"Conditional Statements in Python\".title()"
   ]
  },
  {
   "cell_type": "markdown",
   "id": "c6caf28d",
   "metadata": {},
   "source": [
    "Example use cases for \n",
    "conditional statements in Python:"
   ]
  },
  {
   "cell_type": "code",
   "execution_count": 18,
   "id": "80750976",
   "metadata": {
    "scrolled": true
   },
   "outputs": [
    {
     "name": "stdout",
     "output_type": "stream",
     "text": [
      "Enter an integer?234556789\n",
      "The number two hundred and thirty-four million, five hundred and fifty-six thousand, seven hundred and eighty-nine is positive.\n"
     ]
    }
   ],
   "source": [
    "# Checking if a number is positive, negative, or zero\n",
    "# num = input(int(\"An integer?\"))\n",
    "num = int(input(\"Enter an integer?\"))\n",
    "\n",
    "numword=num2words(num)\n",
    "\n",
    "if num > 0:\n",
    "   \n",
    "    print(f\"The number {numword} is positive.\")\n",
    "    \n",
    "elif num < 0:\n",
    "    \n",
    "    print(f\"The number {numword} is negative.\")\n",
    "    \n",
    "else:\n",
    "    \n",
    "\n",
    "    print(f\"The number {num} is zero.\")"
   ]
  },
  {
   "cell_type": "code",
   "execution_count": 23,
   "id": "5de29f67",
   "metadata": {},
   "outputs": [
    {
     "name": "stdout",
     "output_type": "stream",
     "text": [
      "Enter a big positive integer?33333\n",
      "The number 33333 is very big.\n"
     ]
    }
   ],
   "source": [
    "\n",
    "num = int(input(\"Enter a big positive integer?\"))\n",
    "\n",
    "numword=num2words(num)\n",
    "\n",
    "if num < 9:\n",
    "   \n",
    "    print(f\"The number {numword} is not really big.\")\n",
    "    \n",
    "elif 10 <num < 99:\n",
    "    \n",
    "    print(f\"The number {numword} is only double digit and is not really big.\")\n",
    "elif 100 <num < 999:\n",
    "    \n",
    "    print(f\"The number {numword} is only triple digit and is only a little  big.\")   \n",
    "    \n",
    "    elif 100 <num < 999:\n",
    "    \n",
    "    print(f\"The number {numword} is only triple digit and is only a little  big.\")    \n",
    "else:\n",
    "    \n",
    "\n",
    "    print(f\"The number {num} is very big.\")"
   ]
  },
  {
   "cell_type": "code",
   "execution_count": 2,
   "id": "d72fb837",
   "metadata": {},
   "outputs": [
    {
     "name": "stdout",
     "output_type": "stream",
     "text": [
      "Count so far is : 0\n",
      "Count so far is : 1\n",
      "Count so far is : 2\n",
      "Count so far is : 3\n",
      "Count so far is : 4\n",
      "Count so far is : 5\n",
      "Count so far is : 6\n",
      "Count so far is : 7\n",
      "Count so far is : 8\n",
      "Count so far is : 9\n",
      "Count so far is : 10\n",
      "Count so far is : 11\n",
      "Count so far is : 12\n"
     ]
    }
   ],
   "source": [
    "count = 0\n",
    "while count < 13:\n",
    "    print(\"Count so far is :\", count)\n",
    "    count += 1\n"
   ]
  },
  {
   "cell_type": "code",
   "execution_count": 9,
   "id": "430373fd",
   "metadata": {},
   "outputs": [
    {
     "name": "stdout",
     "output_type": "stream",
     "text": [
      "I counted to thirty million in an Execution time of 3.0189075469970703.\n"
     ]
    }
   ],
   "source": [
    "import time\n",
    "from num2words import num2words\n",
    "start_time = time.time()\n",
    "\n",
    "# Your while loop code here\n",
    "counter = 0\n",
    "while counter < 3*10**7:\n",
    "    counter += 1\n",
    "    \n",
    "\n",
    "end_time = time.time()\n",
    "execution_time = end_time - start_time\n",
    "words = num2words(counter)\n",
    "print(f\"I counted to {words} in an Execution time of {execution_time}.\")\n",
    "\n"
   ]
  },
  {
   "cell_type": "code",
   "execution_count": null,
   "id": "87c9f883",
   "metadata": {},
   "outputs": [],
   "source": [
    "2. `for` loop:\n",
    "```python\n",
    "# Iterating over a list of names and printing a greeting for each name\n",
    "names = [\"Alice\", \"Bob\", \"Charlie\"]\n",
    "for name in names:\n",
    "    print(\"Hello,\", name)\n",
    "```\n",
    "\n",
    "3. `try`-`except` statement:\n",
    "```python\n",
    "# Handling division by zero exception\n",
    "try:\n",
    "    result = 10 / 0\n",
    "except ZeroDivisionError:\n",
    "    print(\"Error: Division by zero occurred.\")\n",
    "```\n",
    "\n",
    "4. `break` statement:\n",
    "```python\n",
    "# Searching for a number in a list\n",
    "numbers = [1, 5, 8, 10, 3, 7]\n",
    "search_number = 10\n",
    "for num in numbers:\n",
    "    if num == search_number:\n",
    "        print(\"Number found!\")\n",
    "        break\n",
    "else:\n",
    "    print(\"Number not found.\")\n",
    "```\n",
    "\n",
    "5. `continue` statement:\n",
    "```python\n",
    "# Printing even numbers in a range\n",
    "for i in range(1, 10):\n",
    "    if i % 2 != 0:\n",
    "        continue\n",
    "    print(i)\n",
    "```\n",
    "\n",
    "6. `pass` statement:\n",
    "```python\n",
    "# Placeholder for an empty function\n",
    "def some_function():\n",
    "    pass\n",
    "```\n",
    "\n",
    "These examples demonstrate how each conditional statement can be used to control the program flow or handle specific situations. Remember, these are just a few examples, and the use cases for these statements can vary depending on your specific requirements and logic."
   ]
  }
 ],
 "metadata": {
  "kernelspec": {
   "display_name": "Python 3 (ipykernel)",
   "language": "python",
   "name": "python3"
  },
  "language_info": {
   "codemirror_mode": {
    "name": "ipython",
    "version": 3
   },
   "file_extension": ".py",
   "mimetype": "text/x-python",
   "name": "python",
   "nbconvert_exporter": "python",
   "pygments_lexer": "ipython3",
   "version": "3.9.13"
  },
  "toc": {
   "base_numbering": 1,
   "nav_menu": {},
   "number_sections": true,
   "sideBar": true,
   "skip_h1_title": true,
   "title_cell": "Table of Contents",
   "title_sidebar": "Contents",
   "toc_cell": false,
   "toc_position": {},
   "toc_section_display": true,
   "toc_window_display": true
  }
 },
 "nbformat": 4,
 "nbformat_minor": 5
}
