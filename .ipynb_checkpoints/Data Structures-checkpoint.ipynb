{
 "cells": [
  {
   "cell_type": "markdown",
   "id": "1975b1b3",
   "metadata": {},
   "source": [
    "# Data Structures\n",
    " https://neuronize.dev/quick-python-primer-master-the-basics-in-20-minutes\n",
    " \n",
    " ## List\n",
    " In Python, a list is a collection of items, which can be of any data type, that are ordered and mutable (changeable). Lists are created by enclosing a comma-separated sequence of items within square brackets []. For example:"
   ]
  },
  {
   "cell_type": "markdown",
   "id": "6b8573da",
   "metadata": {},
   "source": [
    "Python provides several built-in data structures that can be used to store and manipulate data efficiently. Here are some commonly used data structures in Python:\n",
    "\n",
    "\n",
    "Lists: Lists are ordered, mutable sequences that can hold a collection of items. They are created using square brackets and can contain elements of different types. Lists allow for dynamic resizing, item insertion, deletion, and modification.\n",
    "\n"
   ]
  },
  {
   "cell_type": "code",
   "execution_count": null,
   "id": "b1b76724",
   "metadata": {},
   "outputs": [],
   "source": [
    "my_list = [1, 2, 'three', 4.5]"
   ]
  },
  {
   "cell_type": "markdown",
   "id": "aeecaaa3",
   "metadata": {},
   "source": [
    "Tuples: Tuples are similar to lists but are immutable, meaning their elements cannot be changed after creation. They are created using parentheses and are often used to store related pieces of data together."
   ]
  },
  {
   "cell_type": "code",
   "execution_count": 2,
   "id": "8a45d886",
   "metadata": {},
   "outputs": [],
   "source": [
    "my_tuple = (1, 2, 'three', 4.5)"
   ]
  },
  {
   "cell_type": "code",
   "execution_count": null,
   "id": "8fd08f8a",
   "metadata": {},
   "outputs": [],
   "source": [
    "```"
   ]
  },
  {
   "cell_type": "code",
   "execution_count": null,
   "id": "0778638d",
   "metadata": {},
   "outputs": [],
   "source": [
    "3. Sets: Sets are unordered collections of unique elements. They are useful for removing duplicates or testing membership in constant time. Sets can be created using curly braces or the `set()` function.\n",
    "\n",
    "Example:\n",
    "```python\n",
    "my_set = {1, 2, 3, 4, 5}\n",
    "```\n",
    "\n",
    "4. Dictionaries: Dictionaries are key-value pairs, where each value is associated with a unique key. They are created using curly braces or the `dict()` function. Dictionaries provide fast lookup based on keys.\n",
    "\n",
    "Example:\n",
    "```python\n",
    "my_dict = {'name': 'John', 'age': 30, 'city': 'New York'}\n",
    "```\n",
    "\n",
    "5. Arrays: Arrays are used to store homogeneous data items of the same type. The `array` module in Python provides an array data structure that is more memory-efficient than lists when storing large sequences of numbers.\n",
    "\n",
    "Example:\n",
    "```python\n",
    "import array\n",
    "\n",
    "my_array = array.array('i', [1, 2, 3, 4, 5])\n",
    "```\n",
    "\n",
    "6. Linked Lists: Although not a built-in data structure, linked lists can be implemented in Python using classes. Linked lists consist of nodes where each node contains data and a reference to the next node.\n",
    "\n",
    "Example:\n",
    "```python\n",
    "class Node:\n",
    "    def __init__(self, data):\n",
    "        self.data = data\n",
    "        self.next = None\n",
    "\n",
    "# Creating a linked list\n",
    "head = Node(1)\n",
    "second = Node(2)\n",
    "third = Node(3)\n",
    "\n",
    "head.next = second\n",
    "second.next = third\n",
    "```\n",
    "\n",
    "These are just a few examples of data structures available in Python. Depending on your specific needs, you can also explore other data structures such as stacks, queues, heaps, trees, and graphs using either built-in or external libraries."
   ]
  }
 ],
 "metadata": {
  "kernelspec": {
   "display_name": "Python 3 (ipykernel)",
   "language": "python",
   "name": "python3"
  },
  "language_info": {
   "codemirror_mode": {
    "name": "ipython",
    "version": 3
   },
   "file_extension": ".py",
   "mimetype": "text/x-python",
   "name": "python",
   "nbconvert_exporter": "python",
   "pygments_lexer": "ipython3",
   "version": "3.9.13"
  },
  "toc": {
   "base_numbering": 1,
   "nav_menu": {},
   "number_sections": true,
   "sideBar": true,
   "skip_h1_title": true,
   "title_cell": "Table of Contents",
   "title_sidebar": "Contents",
   "toc_cell": false,
   "toc_position": {},
   "toc_section_display": true,
   "toc_window_display": true
  }
 },
 "nbformat": 4,
 "nbformat_minor": 5
}
