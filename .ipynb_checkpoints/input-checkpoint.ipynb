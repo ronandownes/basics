{
 "cells": [
  {
   "cell_type": "markdown",
   "id": "4fcaa538",
   "metadata": {},
   "source": [
    "https://chat.openai.com/share/9ae7fb84-af66-461c-86fa-96a064ee5cdb"
   ]
  },
  {
   "cell_type": "code",
   "execution_count": 37,
   "id": "4ecaa130",
   "metadata": {},
   "outputs": [
    {
     "name": "stdout",
     "output_type": "stream",
     "text": [
      "Please enter your name: \n",
      "Please enter your age: \n"
     ]
    },
    {
     "ename": "ValueError",
     "evalue": "invalid literal for int() with base 10: ''",
     "output_type": "error",
     "traceback": [
      "\u001b[1;31m---------------------------------------------------------------------------\u001b[0m",
      "\u001b[1;31mValueError\u001b[0m                                Traceback (most recent call last)",
      "\u001b[1;32m~\\AppData\\Local\\Temp\\ipykernel_4436\\2039636686.py\u001b[0m in \u001b[0;36m<module>\u001b[1;34m\u001b[0m\n\u001b[0;32m      7\u001b[0m \u001b[1;33m\u001b[0m\u001b[0m\n\u001b[0;32m      8\u001b[0m \u001b[1;31m# Convert the age to an integer\u001b[0m\u001b[1;33m\u001b[0m\u001b[1;33m\u001b[0m\u001b[0m\n\u001b[1;32m----> 9\u001b[1;33m \u001b[0mage\u001b[0m \u001b[1;33m=\u001b[0m \u001b[0mint\u001b[0m\u001b[1;33m(\u001b[0m\u001b[0mage\u001b[0m\u001b[1;33m)\u001b[0m\u001b[1;33m\u001b[0m\u001b[1;33m\u001b[0m\u001b[0m\n\u001b[0m\u001b[0;32m     10\u001b[0m \u001b[1;33m\u001b[0m\u001b[0m\n\u001b[0;32m     11\u001b[0m \u001b[0mprint\u001b[0m\u001b[1;33m(\u001b[0m\u001b[1;34m\"Hello, \"\u001b[0m \u001b[1;33m+\u001b[0m \u001b[0mname\u001b[0m \u001b[1;33m+\u001b[0m \u001b[1;34m\"! Nice to meet you.\"\u001b[0m\u001b[1;33m)\u001b[0m\u001b[1;33m\u001b[0m\u001b[1;33m\u001b[0m\u001b[0m\n",
      "\u001b[1;31mValueError\u001b[0m: invalid literal for int() with base 10: ''"
     ]
    }
   ],
   "source": [
    "name = input(\"Please enter your name: \")\n",
    "\n",
    "# Convert the name to title case\n",
    "name = name.title()\n",
    "\n",
    "age = input(\"Please enter your age: \")\n",
    "\n",
    "# Convert the age to an integer\n",
    "age = int(age)\n",
    "\n",
    "print(\"Hello, \" + name + \"! Nice to meet you.\")\n",
    "print(\"You are \" + str(age) + \" years old.\")\n"
   ]
  },
  {
   "cell_type": "code",
   "execution_count": 38,
   "id": "f9c44d34",
   "metadata": {},
   "outputs": [
    {
     "name": "stdout",
     "output_type": "stream",
     "text": [
      "Please enter your favorite fruits (separated by commas):\n",
      " \n",
      "Your favorite fruits are: ['']\n"
     ]
    }
   ],
   "source": [
    "fruits_input = input(\"Please enter your favorite fruits (separated by commas):\\n \")\n",
    "\n",
    "# Convert the input string into a list of fruits\n",
    "favorite_fruits = fruits_input.split(\",\")\n",
    "\n",
    "# Remove any leading/trailing whitespaces from each fruit in the list\n",
    "favorite_fruits = [fruit.strip() for fruit in favorite_fruits]\n",
    "\n",
    "print(\"Your favorite fruits are:\", favorite_fruits)\n"
   ]
  },
  {
   "cell_type": "code",
   "execution_count": 39,
   "id": "2ba2eb7e",
   "metadata": {},
   "outputs": [
    {
     "name": "stdout",
     "output_type": "stream",
     "text": [
      "Please enter your favorite fruits (separated by commas):\n",
      " \n",
      "Your set of favorite fruits are: {''}\n"
     ]
    }
   ],
   "source": [
    "fruits_input = input(\"Please enter your favorite fruits (separated by commas):\\n \")\n",
    "\n",
    "# Convert the input string into a list of fruits\n",
    "favorite_fruits_list = fruits_input.split(\",\")\n",
    "\n",
    "# Remove any leading/trailing whitespaces from each fruit in the list\n",
    "favorite_fruits_list = [fruit.strip() for fruit in favorite_fruits_list]\n",
    "\n",
    "# Convert the list into a set\n",
    "favorite_fruits_set = set(favorite_fruits_list)\n",
    "\n",
    "print(\"Your set of favorite fruits are:\", favorite_fruits_set)\n",
    "\n",
    "\n"
   ]
  },
  {
   "cell_type": "code",
   "execution_count": 40,
   "id": "3facbfbf",
   "metadata": {},
   "outputs": [
    {
     "name": "stdout",
     "output_type": "stream",
     "text": [
      "Please enter your gender: \n",
      "Please enter your age: \n",
      "Please enter your nationality: \n",
      "Your user info (as a tuple) is: ('', '', '')\n"
     ]
    }
   ],
   "source": [
    "# Ask for each component of the tuple separately\n",
    "gender = input(\"Please enter your gender: \")\n",
    "age = input(\"Please enter your age: \")\n",
    "nationality = input(\"Please enter your nationality: \")\n",
    "\n",
    "# Construct the tuple using parentheses\n",
    "user_info = (gender, age, nationality)\n",
    "\n",
    "print(\"Your user info (as a tuple) is:\", user_info)\n"
   ]
  },
  {
   "cell_type": "code",
   "execution_count": 41,
   "id": "addff175",
   "metadata": {},
   "outputs": [
    {
     "name": "stdout",
     "output_type": "stream",
     "text": [
      "d is of type <class 'str'>\n"
     ]
    }
   ],
   "source": [
    "d= \"joe\"\n",
    "\n",
    "print(\"d is of type\", type(d))"
   ]
  },
  {
   "cell_type": "code",
   "execution_count": null,
   "id": "11b0a96e",
   "metadata": {},
   "outputs": [],
   "source": []
  },
  {
   "cell_type": "code",
   "execution_count": null,
   "id": "c4a41232",
   "metadata": {},
   "outputs": [],
   "source": []
  },
  {
   "cell_type": "code",
   "execution_count": null,
   "id": "544e2f63",
   "metadata": {},
   "outputs": [],
   "source": []
  }
 ],
 "metadata": {
  "kernelspec": {
   "display_name": "Python 3 (ipykernel)",
   "language": "python",
   "name": "python3"
  },
  "language_info": {
   "codemirror_mode": {
    "name": "ipython",
    "version": 3
   },
   "file_extension": ".py",
   "mimetype": "text/x-python",
   "name": "python",
   "nbconvert_exporter": "python",
   "pygments_lexer": "ipython3",
   "version": "3.9.13"
  }
 },
 "nbformat": 4,
 "nbformat_minor": 5
}
