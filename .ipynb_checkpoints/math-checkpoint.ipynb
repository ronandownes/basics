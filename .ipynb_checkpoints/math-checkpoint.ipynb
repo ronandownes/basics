{
 "cells": [
  {
   "cell_type": "markdown",
   "id": "8d4aeeaa",
   "metadata": {},
   "source": [
    "I'll provide you with an overview of some key mathematical concepts and how to apply them using Python. Let's get started!\n",
    "\n",
    "Basic Arithmetic Operations:\n",
    "Python can perform basic arithmetic operations like addition (+), subtraction (-), multiplication (*), division (/), and exponentiation (**). For example:"
   ]
  },
  {
   "cell_type": "code",
   "execution_count": 35,
   "id": "fcd393e3",
   "metadata": {},
   "outputs": [],
   "source": [
    "a = 5 + 3    # addition\n",
    "b = 7 - 2    # subtraction\n",
    "c = 4 * 6    # multiplication\n",
    "d = 10 / 2   # division\n",
    "e = 2 ** 3   # exponentiation\n"
   ]
  },
  {
   "cell_type": "markdown",
   "id": "4771079f",
   "metadata": {},
   "source": [
    "Mathematical Functions:\n",
    "Python provides various mathematical functions through the math module. To use these functions, you need to import the math module. Here are some commonly used functions:"
   ]
  },
  {
   "cell_type": "code",
   "execution_count": 42,
   "id": "c8bc5b23",
   "metadata": {},
   "outputs": [],
   "source": [
    "import math\n",
    "import random\n",
    "\n",
    "x = round(random.uniform(-9, 9), 2)\n",
    "\n",
    "\n",
    "\n",
    "sqrt_result = math.sqrt(x)          # Square root\n",
    "ceil_result = math.ceil(x)          # Ceiling (smallest integer greater than or equal to x)\n",
    "floor_result = math.floor(x)        # Floor (largest integer less than or equal to x)\n",
    "abs_result = abs(x)            # Absolute value\n",
    "sin_result = math.sin(x)            # Sine (x is in radians)\n",
    "cos_result = math.cos(x)            # Cosine (x is in radians)\n"
   ]
  },
  {
   "cell_type": "markdown",
   "id": "ee2f8eeb",
   "metadata": {},
   "source": [
    "sqrt_result"
   ]
  },
  {
   "cell_type": "code",
   "execution_count": 43,
   "id": "1c9e73d0",
   "metadata": {},
   "outputs": [
    {
     "data": {
      "text/plain": [
       "5"
      ]
     },
     "execution_count": 43,
     "metadata": {},
     "output_type": "execute_result"
    }
   ],
   "source": [
    "ceil_result"
   ]
  },
  {
   "cell_type": "markdown",
   "id": "f3f4d662",
   "metadata": {},
   "source": [
    "floor_result"
   ]
  },
  {
   "cell_type": "code",
   "execution_count": 44,
   "id": "b82ccf2d",
   "metadata": {},
   "outputs": [
    {
     "data": {
      "text/plain": [
       "4.98"
      ]
     },
     "execution_count": 44,
     "metadata": {},
     "output_type": "execute_result"
    }
   ],
   "source": [
    "abs_result"
   ]
  },
  {
   "cell_type": "markdown",
   "id": "71305558",
   "metadata": {},
   "source": [
    "sin_result"
   ]
  },
  {
   "cell_type": "code",
   "execution_count": 45,
   "id": "8f4517fd",
   "metadata": {},
   "outputs": [
    {
     "data": {
      "text/plain": [
       "0.2644282479640558"
      ]
     },
     "execution_count": 45,
     "metadata": {},
     "output_type": "execute_result"
    }
   ],
   "source": [
    "cos_result"
   ]
  },
  {
   "cell_type": "markdown",
   "id": "15f23316",
   "metadata": {},
   "source": [
    "Random Numbers:\n",
    "To work with random numbers, Python provides the random module. Here are some functions you can use:"
   ]
  },
  {
   "cell_type": "code",
   "execution_count": 46,
   "id": "76afc625",
   "metadata": {},
   "outputs": [],
   "source": [
    "import random\n",
    "\n",
    "random_number = random.random()                 # Random float between 0 and 1\n",
    "random_integer = random.randint(1, 10)          # Random integer between 1 and 10 (inclusive)\n",
    "random_choice = random.choice(['apple', 'banana', 'orange'])  # Randomly selects an item from a list\n"
   ]
  },
  {
   "cell_type": "markdown",
   "id": "cbc6aa88",
   "metadata": {},
   "source": []
  },
  {
   "cell_type": "code",
   "execution_count": null,
   "id": "f6f0f52e",
   "metadata": {},
   "outputs": [],
   "source": []
  },
  {
   "cell_type": "markdown",
   "id": "b52f2e98",
   "metadata": {},
   "source": []
  },
  {
   "cell_type": "code",
   "execution_count": null,
   "id": "d5af700d",
   "metadata": {},
   "outputs": [],
   "source": []
  },
  {
   "cell_type": "code",
   "execution_count": null,
   "id": "53b9223a",
   "metadata": {},
   "outputs": [],
   "source": []
  },
  {
   "cell_type": "code",
   "execution_count": null,
   "id": "9f94561b",
   "metadata": {},
   "outputs": [],
   "source": []
  }
 ],
 "metadata": {
  "kernelspec": {
   "display_name": "Python 3 (ipykernel)",
   "language": "python",
   "name": "python3"
  },
  "language_info": {
   "codemirror_mode": {
    "name": "ipython",
    "version": 3
   },
   "file_extension": ".py",
   "mimetype": "text/x-python",
   "name": "python",
   "nbconvert_exporter": "python",
   "pygments_lexer": "ipython3",
   "version": "3.9.13"
  },
  "toc": {
   "base_numbering": 1,
   "nav_menu": {},
   "number_sections": true,
   "sideBar": true,
   "skip_h1_title": true,
   "title_cell": "Table of Contents",
   "title_sidebar": "Contents",
   "toc_cell": false,
   "toc_position": {},
   "toc_section_display": true,
   "toc_window_display": true
  }
 },
 "nbformat": 4,
 "nbformat_minor": 5
}
