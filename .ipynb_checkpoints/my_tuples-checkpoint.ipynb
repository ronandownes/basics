{
 "cells": [
  {
   "cell_type": "markdown",
   "id": "483fc6c3",
   "metadata": {},
   "source": [
    "# Packing and unpacking\n"
   ]
  },
  {
   "cell_type": "code",
   "execution_count": 4,
   "id": "7de51f92",
   "metadata": {},
   "outputs": [],
   "source": [
    "mixed_tuple=(1,2,3,\"one\",\"two\",\"three\")"
   ]
  },
  {
   "cell_type": "code",
   "execution_count": 5,
   "id": "b752f31a",
   "metadata": {},
   "outputs": [],
   "source": [
    "no_brackets=2,3,4,\"a\",\"b\",\"c\"\n"
   ]
  },
  {
   "cell_type": "code",
   "execution_count": 6,
   "id": "ac7d2113",
   "metadata": {},
   "outputs": [],
   "source": [
    "aa,bb,cc,dd,ee,ff=no_brackets"
   ]
  },
  {
   "cell_type": "code",
   "execution_count": 7,
   "id": "19d16351",
   "metadata": {},
   "outputs": [
    {
     "data": {
      "text/plain": [
       "3"
      ]
     },
     "execution_count": 7,
     "metadata": {},
     "output_type": "execute_result"
    }
   ],
   "source": [
    "bb\n"
   ]
  }
 ],
 "metadata": {
  "kernelspec": {
   "display_name": "Python 3 (ipykernel)",
   "language": "python",
   "name": "python3"
  },
  "language_info": {
   "codemirror_mode": {
    "name": "ipython",
    "version": 3
   },
   "file_extension": ".py",
   "mimetype": "text/x-python",
   "name": "python",
   "nbconvert_exporter": "python",
   "pygments_lexer": "ipython3",
   "version": "3.9.13"
  },
  "toc": {
   "base_numbering": 1,
   "nav_menu": {},
   "number_sections": true,
   "sideBar": true,
   "skip_h1_title": true,
   "title_cell": "Table of Contents",
   "title_sidebar": "Contents",
   "toc_cell": false,
   "toc_position": {},
   "toc_section_display": true,
   "toc_window_display": true
  }
 },
 "nbformat": 4,
 "nbformat_minor": 5
}
