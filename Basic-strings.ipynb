{
 "cells": [
  {
   "cell_type": "markdown",
   "id": "552af9c5",
   "metadata": {},
   "source": [
    "## Concatenating strings"
   ]
  },
  {
   "cell_type": "code",
   "execution_count": 67,
   "id": "b77bcc79",
   "metadata": {},
   "outputs": [
    {
     "data": {
      "text/plain": [
       "'My name is John and I am 30 years old.'"
      ]
     },
     "execution_count": 67,
     "metadata": {},
     "output_type": "execute_result"
    }
   ],
   "source": [
    " name = \"John\"\n",
    " age = 30\n",
    " message = \"My name is \" + name + \" and I am \" + str(age) + \" years old.\"\n",
    "message"
   ]
  },
  {
   "cell_type": "markdown",
   "id": "6a41260a",
   "metadata": {},
   "source": [
    "F-strings: F-strings provide a more concise and readable way of formatting strings in Python 3.6 and above. F-strings allow you to embed expressions directly within string literals by prefixing the string with the letter 'f' or 'F'. The expressions are enclosed in curly braces {}. Here's an example:\n",
    "F-strings are quite flexible and allow you to include variables, expressions, and even function calls within the curly braces.\n"
   ]
  },
  {
   "cell_type": "code",
   "execution_count": 74,
   "id": "76653a34",
   "metadata": {},
   "outputs": [
    {
     "name": "stdout",
     "output_type": "stream",
     "text": [
      "Name?Joe\n",
      "Hi  Joe\n"
     ]
    }
   ],
   "source": [
    "name = input(\"Name?\")\n",
    "if name == \"\":\n",
    "    name = \"blank_name\"\n",
    "print(\"Hi \", name)"
   ]
  },
  {
   "cell_type": "markdown",
   "id": "e1f250a0",
   "metadata": {},
   "source": [
    "## the f\"\" method, also known as f-strings or formatted string literals \n",
    "provides more flexibility by allowing you to specify the order of the values, use named placeholders, and format the values in different ways using format specifiers.\n",
    "\n",
    "Format specifiers: Format specifiers allow you to control the formatting of the substituted values within the string. They can be added after a colon : within the curly braces {}. Format specifiers can specify the width, alignment, precision, and other formatting options. Here's an example:"
   ]
  },
  {
   "cell_type": "code",
   "execution_count": 78,
   "id": "9f646198",
   "metadata": {},
   "outputs": [
    {
     "name": "stdout",
     "output_type": "stream",
     "text": [
      "My name is Alice, and I am 30 years old.\n"
     ]
    }
   ],
   "source": [
    "name = \"Alice\"\n",
    "age = 30\n",
    "\n",
    "message = f\"My name is {name}, and I am {age} years old.\"\n",
    "print(message)  # Output: My name is Alice, and I am 30 years old.\n"
   ]
  },
  {
   "cell_type": "code",
   "execution_count": 75,
   "id": "58b305b6",
   "metadata": {},
   "outputs": [
    {
     "name": "stdout",
     "output_type": "stream",
     "text": [
      "age?22\n",
      "Your name is Joe and you are 22 years old.\n"
     ]
    }
   ],
   "source": [
    "\n",
    "age = input(\"age?\")\n",
    "if age == \"\":\n",
    "    age = \"unknown\"\n",
    "\n",
    "formatted_string = f\"Your name is {name} and you are {age} years old.\"\n",
    "print(formatted_string)"
   ]
  },
  {
   "cell_type": "code",
   "execution_count": 26,
   "id": "d6c7162d",
   "metadata": {},
   "outputs": [
    {
     "name": "stdout",
     "output_type": "stream",
     "text": [
      "My name is Alice and I am 25 years old.\n"
     ]
    }
   ],
   "source": [
    "\"\"\" Another way to format strings in Python is by using the format() method. \n",
    "This method is available on string objects and\n",
    "allows you to insert values into placeholders within a string. Placeholders are\n",
    "represented by curly braces {}. Here's an example:\"\"\"\n",
    "\n",
    "\n",
    "name = \"Alice\"\n",
    "age = 25\n",
    "formatted_string = \"My name is {} and I am {} years old.\".format(name, age)\n",
    "print(formatted_string)\n"
   ]
  },
  {
   "cell_type": "code",
   "execution_count": 77,
   "id": "79d17c8d",
   "metadata": {},
   "outputs": [
    {
     "name": "stdout",
     "output_type": "stream",
     "text": [
      "You had full irish for breakfast and Toasty for lunch.\n"
     ]
    }
   ],
   "source": [
    "breakfast=\"full irish\"\n",
    "lunch=\"Toasty\"\n",
    "print(f\"You had {breakfast} for breakfast and {lunch} for lunch.\")"
   ]
  },
  {
   "cell_type": "code",
   "execution_count": 3,
   "id": "ab39ddb8",
   "metadata": {},
   "outputs": [
    {
     "name": "stdout",
     "output_type": "stream",
     "text": [
      "The value of pi is approximately 3.14\n"
     ]
    }
   ],
   "source": [
    "pi = 3.14159\n",
    "formatted_string = \"The value of pi is approximately {:.2f}\".format(pi)\n",
    "print(formatted_string)\n"
   ]
  },
  {
   "cell_type": "code",
   "execution_count": 3,
   "id": "4b4e28e7",
   "metadata": {},
   "outputs": [
    {
     "name": "stdout",
     "output_type": "stream",
     "text": [
      "At least this way one you stay in the quote and two if makes sense.\n"
     ]
    }
   ],
   "source": [
    "one=\"one\"\n",
    "two=\"two\"\n",
    "string=\"At least this way {} you stay in the quote and {} if makes sense.\".format(one, two)\n",
    "print(string)"
   ]
  },
  {
   "cell_type": "code",
   "execution_count": 5,
   "id": "040de0e0",
   "metadata": {},
   "outputs": [
    {
     "data": {
      "text/plain": [
       "'My name is Alice. I am 30 years old.'"
      ]
     },
     "execution_count": 5,
     "metadata": {},
     "output_type": "execute_result"
    }
   ],
   "source": [
    "name = \"Alice\"\n",
    "age = 30\n",
    "\n",
    "message = f\"My name is {name}. I am {age} years old.\"\n",
    "message"
   ]
  },
  {
   "cell_type": "code",
   "execution_count": null,
   "id": "e72c510a",
   "metadata": {},
   "outputs": [],
   "source": [
    "name = \"Alice\"\n",
    "age = 30\n",
    "\n",
    "message = \"My name is {}. I am {} years old.\".format(name, age)\n"
   ]
  },
  {
   "cell_type": "markdown",
   "id": "7169422a",
   "metadata": {},
   "source": [
    "Both f-strings and the .format() method offer similar capabilities and can achieve similar results. The choice between them often comes down to personal preference and the specific requirements of your codebase.\n",
    "\n",
    "However, f-strings are generally favored for several reasons:\n",
    "\n",
    "Conciseness: F-strings provide a more compact and readable syntax, especially when embedding expressions directly within the string.\n",
    "Performance: F-strings are typically faster than the .format() method since the expressions are evaluated at compile-time rather than runtime.\n",
    "Integration with variables: F-strings allow you to directly reference variables without the need for indexing or positional arguments.\n",
    "Therefore, if you are using Python 3.6 or later, f-strings are generally recommended for string formatting due to their readability, performance benefits, and native integration with variables."
   ]
  },
  {
   "cell_type": "code",
   "execution_count": 7,
   "id": "c114b7bb",
   "metadata": {},
   "outputs": [
    {
     "data": {
      "text/plain": [
       "' My dogs name is spot and my cats name is Misty Moo'"
      ]
     },
     "execution_count": 7,
     "metadata": {},
     "output_type": "execute_result"
    }
   ],
   "source": [
    "dog=\"spot\"\n",
    "cat=\"Misty Moo\"\n",
    "\n",
    "fstring=f\" My dogs name is {dog} and my cats name is {cat}\"\n",
    "fstring"
   ]
  },
  {
   "cell_type": "code",
   "execution_count": 9,
   "id": "738e3a47",
   "metadata": {},
   "outputs": [
    {
     "data": {
      "text/plain": [
       "': CONVERTS ALL CHARACTERS IN A STRING TO UPPERCASE.'"
      ]
     },
     "execution_count": 9,
     "metadata": {},
     "output_type": "execute_result"
    }
   ],
   "source": [
    "str.upper(\": Converts all characters in a string to uppercase.\")"
   ]
  },
  {
   "cell_type": "code",
   "execution_count": 11,
   "id": "f43f9110",
   "metadata": {},
   "outputs": [
    {
     "data": {
      "text/plain": [
       "': converts all characters in a string to lowercase.'"
      ]
     },
     "execution_count": 11,
     "metadata": {},
     "output_type": "execute_result"
    }
   ],
   "source": [
    "str.lower(\": Converts ALL characters in a string to lowercase.\")"
   ]
  },
  {
   "cell_type": "code",
   "execution_count": 15,
   "id": "947d0590",
   "metadata": {},
   "outputs": [
    {
     "data": {
      "text/plain": [
       "'Converts ALL characters in a string to lowercase.'"
      ]
     },
     "execution_count": 15,
     "metadata": {},
     "output_type": "execute_result"
    }
   ],
   "source": [
    "str.strip(\"Converts ALL characters in a string to lowercase.             \")"
   ]
  },
  {
   "cell_type": "code",
   "execution_count": 42,
   "id": "0df01e4d",
   "metadata": {},
   "outputs": [
    {
     "data": {
      "text/plain": [
       "'      HELLO    MIX OF UPPER AND     LOWER NEEDS A STRIP          '"
      ]
     },
     "execution_count": 42,
     "metadata": {},
     "output_type": "execute_result"
    }
   ],
   "source": [
    "text=\"      Hello    Mix of upper and     LOWER Needs a strip          \"\n",
    "text.upper()"
   ]
  },
  {
   "cell_type": "code",
   "execution_count": 43,
   "id": "9a591953",
   "metadata": {},
   "outputs": [
    {
     "data": {
      "text/plain": [
       "'      hello    mix of upper and     lower needs a strip          '"
      ]
     },
     "execution_count": 43,
     "metadata": {},
     "output_type": "execute_result"
    }
   ],
   "source": [
    "text.lower()"
   ]
  },
  {
   "cell_type": "code",
   "execution_count": 44,
   "id": "d3e9bd08",
   "metadata": {},
   "outputs": [
    {
     "data": {
      "text/plain": [
       "'Hello    Mix of upper and     LOWER Needs a strip'"
      ]
     },
     "execution_count": 44,
     "metadata": {},
     "output_type": "execute_result"
    }
   ],
   "source": [
    "text.strip()"
   ]
  },
  {
   "cell_type": "code",
   "execution_count": null,
   "id": "f49e4c60",
   "metadata": {},
   "outputs": [],
   "source": [
    "# Define a sample string\n",
    "my_string = \"        Hello, World!   \"\n",
    "\n",
    "# Convert the string to uppercase\n",
    "upper_string = my_string.upper()\n",
    "print(\"Uppercase:\", upper_string)"
   ]
  },
  {
   "cell_type": "code",
   "execution_count": null,
   "id": "e1c84310",
   "metadata": {},
   "outputs": [],
   "source": [
    "# Convert the string to lowercase\n",
    "lower_string = my_string.lower()\n",
    "print(\"Lowercase:\", lower_string)"
   ]
  },
  {
   "cell_type": "code",
   "execution_count": null,
   "id": "93bde578",
   "metadata": {},
   "outputs": [],
   "source": [
    "# Remove whitespace from the beginning and end of the string\n",
    "stripped_string = my_string.strip()\n",
    "print(\"Stripped:\", stripped_string)"
   ]
  },
  {
   "cell_type": "markdown",
   "id": "6382bbbe",
   "metadata": {},
   "source": [
    "## Split method"
   ]
  },
  {
   "cell_type": "code",
   "execution_count": 55,
   "id": "9d9eed0c",
   "metadata": {},
   "outputs": [
    {
     "name": "stdout",
     "output_type": "stream",
     "text": [
      "['Monday', 'tuesday', 'wednesday', 'thursday', 'friday', 'saturday', 'sunday']\n",
      "Split List: ['hello', 'world']\n"
     ]
    }
   ],
   "source": [
    " # Split the string into a list of substrings based on a space separator\n",
    "weekday=\"Monday tuesday wednesday thursday friday saturday sunday\"\n",
    "splitWeek=weekday.split()\n",
    "print(splitWeek)\n",
    "split_list = my_string.split()\n",
    "print(\"Split List:\", split_list)"
   ]
  },
  {
   "cell_type": "code",
   "execution_count": 57,
   "id": "0a4ab189",
   "metadata": {},
   "outputs": [
    {
     "name": "stdout",
     "output_type": "stream",
     "text": [
      "Joined String: hello,world\n",
      "Replaced String: hello world\n",
      "Starts with space: False\n"
     ]
    }
   ],
   "source": [
    "# Join the list of strings into a single string using a comma separator\n",
    "joined_string = \",\".join(split_list)\n",
    "print(\"Joined String:\", joined_string)\n",
    "\n",
    "# Replace \"Hello\" with \"Hi\" in the string\n",
    "replaced_string = my_string.replace(\"Hello\", \"Hi\")\n",
    "print(\"Replaced String:\", replaced_string)\n",
    "\n",
    "# Check if the string starts with \"   \"\n",
    "starts_with_space = my_string.startswith(\"   \")\n",
    "print(\"Starts with space:\", starts_with_space)\n",
    "\n",
    "# Check if the string ends with \""
   ]
  },
  {
   "cell_type": "markdown",
   "id": "9dcc3115",
   "metadata": {},
   "source": [
    "## Pascal Camel and Snake Case custom functions\n",
    "\n",
    "In the to_pascal_case function, we split the input string into a list of words using the split() method. Then, we capitalize the first letter of each word using the capitalize() method and join them together using join(). This produces the PascalCase string.\n",
    "\n"
   ]
  },
  {
   "cell_type": "code",
   "execution_count": 65,
   "id": "e4221364",
   "metadata": {},
   "outputs": [],
   "source": [
    "import re\n",
    "def to_pascal_case(string):\n",
    "    words = string.split()\n",
    "    pascal_case = ''.join(word.capitalize() for word in words)\n",
    "    return pascal_case\n",
    "\n",
    "def to_camel_case(string):\n",
    "    words = string.split()\n",
    "    camel_case = words[0].lower() + ''.join(word.capitalize() for word in words[1:])\n",
    "    return camel_case\n",
    "\n",
    "def to_snake_case(string):\n",
    "    snake_case = re.sub(r'\\W+', '_', string)\n",
    "    snake_case = snake_case.lower()\n",
    "    return snake_case"
   ]
  },
  {
   "cell_type": "code",
   "execution_count": 66,
   "id": "337849f4",
   "metadata": {},
   "outputs": [
    {
     "name": "stdout",
     "output_type": "stream",
     "text": [
      "iAmAStupidStringIAmHelloWorld\n",
      "IAmAStupidStringIAmHelloWorld\n",
      "i_am_a_stupid_string_i_am_hello_world\n"
     ]
    }
   ],
   "source": [
    "# Example usage\n",
    "test_string = \"i am a stupid String I am hello world\"\n",
    "print( to_camel_case(test_string))\n",
    "print(to_pascal_case(test_string))\n",
    "print(to_snake_case(test_string))"
   ]
  },
  {
   "cell_type": "code",
   "execution_count": 49,
   "id": "b040a7e8",
   "metadata": {},
   "outputs": [
    {
     "name": "stdout",
     "output_type": "stream",
     "text": [
      "helloWorld\n",
      "HelloWorld\n"
     ]
    }
   ],
   "source": [
    "# Example usage\n",
    "my_string = \"hello world\"\n",
    "pascal_case_string = to_pascal_case(my_string)\n",
    "print(pascal_case_string)  # Output: HelloWorld"
   ]
  },
  {
   "cell_type": "code",
   "execution_count": 51,
   "id": "65740018",
   "metadata": {},
   "outputs": [
    {
     "data": {
      "text/plain": [
       "'thisWillBeCamelCase'"
      ]
     },
     "execution_count": 51,
     "metadata": {},
     "output_type": "execute_result"
    }
   ],
   "source": [
    "to_camel_case(\"this will be camel case\")"
   ]
  },
  {
   "cell_type": "code",
   "execution_count": 54,
   "id": "640aa153",
   "metadata": {},
   "outputs": [
    {
     "data": {
      "text/plain": [
       "'ThisWillBeANewCase'"
      ]
     },
     "execution_count": 54,
     "metadata": {},
     "output_type": "execute_result"
    }
   ],
   "source": [
    "to_pascal_case(\"this will be a new case\")"
   ]
  },
  {
   "cell_type": "code",
   "execution_count": 18,
   "id": "dd940eca",
   "metadata": {},
   "outputs": [
    {
     "data": {
      "text/plain": [
       "'Monday'"
      ]
     },
     "execution_count": 18,
     "metadata": {},
     "output_type": "execute_result"
    }
   ],
   "source": [
    "str.replace(\"Monday\", \"Tuesday\",\"I arrived on Monday\")"
   ]
  },
  {
   "cell_type": "code",
   "execution_count": null,
   "id": "2cb34194",
   "metadata": {},
   "outputs": [],
   "source": [
    "Uppercase:    HELLO, WORLD!   \n",
    "Lowercase:    hello, world!   \n",
    "Stripped: Hello, World!\n",
    "Split List: ['Hello,', 'World!']\n",
    "Joined String: Hello,,World!\n",
    "Replaced String:    Hi, World!   \n",
    "Starts with space: True\n",
    "Ends with exclamation: True\n"
   ]
  },
  {
   "cell_type": "code",
   "execution_count": null,
   "id": "457daf50",
   "metadata": {},
   "outputs": [],
   "source": []
  },
  {
   "cell_type": "markdown",
   "id": "59419eb9",
   "metadata": {},
   "source": [
    "In this example, we start with a string that has leading and trailing whitespace. We apply each of the mentioned string methods to manipulate and analyze the string in different ways, and print the results for each operation.\n"
   ]
  },
  {
   "cell_type": "code",
   "execution_count": null,
   "id": "d92a22f9",
   "metadata": {},
   "outputs": [],
   "source": []
  }
 ],
 "metadata": {
  "kernelspec": {
   "display_name": "Python 3 (ipykernel)",
   "language": "python",
   "name": "python3"
  },
  "language_info": {
   "codemirror_mode": {
    "name": "ipython",
    "version": 3
   },
   "file_extension": ".py",
   "mimetype": "text/x-python",
   "name": "python",
   "nbconvert_exporter": "python",
   "pygments_lexer": "ipython3",
   "version": "3.9.13"
  },
  "toc": {
   "base_numbering": 1,
   "nav_menu": {},
   "number_sections": true,
   "sideBar": true,
   "skip_h1_title": true,
   "title_cell": "Table of Contents",
   "title_sidebar": "Contents",
   "toc_cell": false,
   "toc_position": {
    "height": "calc(100% - 180px)",
    "left": "10px",
    "top": "150px",
    "width": "267.026px"
   },
   "toc_section_display": true,
   "toc_window_display": true
  }
 },
 "nbformat": 4,
 "nbformat_minor": 5
}
