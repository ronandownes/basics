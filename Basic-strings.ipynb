{
 "cells": [
  {
   "cell_type": "markdown",
   "id": "552af9c5",
   "metadata": {},
   "source": [
    "## Learn by examples"
   ]
  },
  {
   "cell_type": "markdown",
   "id": "93c9421c",
   "metadata": {},
   "source": [
    "Learning about strings is essential in Python programming. Strings are one of the fundamental data types in Python and are used to represent and manipulate textual data.A few specific reasons:\n",
    "\n",
    "1. Text processing\n",
    "2. Data manipulation\n",
    "3. User input and output\n",
    "4. String formatting\n",
    "5. Textual analysis and natural language processing (NLP): \n",
    "6. String methods and operations\n"
   ]
  },
  {
   "cell_type": "markdown",
   "id": "dab9fb7c",
   "metadata": {},
   "source": [
    "Learning about strings is essential in Python programming. Strings are one of the fundamental data types in Python and are used to represent and manipulate textual data.\n",
    "\n",
    "Here are a few reasons why learning about strings is important in Python:\n",
    "\n",
    "1. Text processing: Strings are commonly used for text processing tasks, such as reading and writing text files, parsing data, and manipulating textual information. Understanding string operations and methods allows you to perform various text-related tasks effectively.\n",
    "\n",
    "2. Data manipulation: Strings often play a crucial role in data manipulation and data cleaning tasks. Whether you're working with raw data or structured datasets, you'll frequently encounter strings that need to be formatted, split, concatenated, or transformed. Knowing how to manipulate strings allows you to process and transform data efficiently.\n",
    "\n",
    "3. User input and output: When developing interactive programs, handling user input and displaying output as strings are common tasks. For example, you might prompt the user for input or display formatted output to the console. Understanding string handling helps you interact with users effectively and present information in a readable format.\n",
    "\n",
    "4. String formatting: Python provides various ways to format strings, such as using f-strings, the `.format()` method, or the `%` operator. String formatting allows you to insert values into a string, control the presentation of data, and create dynamic strings based on variables.\n",
    "\n",
    "5. Textual analysis and natural language processing (NLP): If you're interested in working with text data, strings are fundamental for tasks like sentiment analysis, language processing, text classification, and information extraction. NLP libraries often rely heavily on string manipulation techniques.\n",
    "\n",
    "6. String methods and operations: Python offers a rich set of built-in string methods and operations. By learning about them, you can perform tasks like searching for substrings, replacing parts of a string, converting case, splitting and joining strings, and more. These operations are widely used in Python programming and can significantly simplify your code.\n",
    "\n",
    "Overall, understanding strings and their manipulation in Python is vital for effectively working with textual data, interacting with users, formatting strings, and performing various data processing tasks. It forms a foundational skill for Python developers and opens up opportunities for working with a wide range of applications and domains."
   ]
  },
  {
   "cell_type": "code",
   "execution_count": 39,
   "id": "b77bcc79",
   "metadata": {},
   "outputs": [
    {
     "data": {
      "text/plain": [
       "'My name is John and I am 30 years old.'"
      ]
     },
     "execution_count": 39,
     "metadata": {},
     "output_type": "execute_result"
    }
   ],
   "source": [
    " name = \"John\"\n",
    " age = 30\n",
    " message = \"My name is \" + name + \" and I am \" + str(age) + \" years old.\" # A string literal\n",
    "message"
   ]
  },
  {
   "cell_type": "code",
   "execution_count": 56,
   "id": "76653a34",
   "metadata": {
    "scrolled": true
   },
   "outputs": [
    {
     "name": "stdout",
     "output_type": "stream",
     "text": [
      "What is your name?CARL\n",
      "Thanks for letting me know Carl , goodbye.\n"
     ]
    }
   ],
   "source": [
    "name = input(\"What is your name?\") #prompts user to input their name then starts the if statement block\n",
    "if name == \"\":#checks for empty string\n",
    "    name = \"You left the name field empty! Goodbye\"\n",
    "else:\n",
    "    name = name[0].upper() + name[1:].lower()  \n",
    "print(\"Thanks for letting me know\", name, \", goodbye.\")\n"
   ]
  },
  {
   "cell_type": "code",
   "execution_count": 48,
   "id": "fb38ae38",
   "metadata": {},
   "outputs": [
    {
     "name": "stdout",
     "output_type": "stream",
     "text": [
      "What is your name?ty\n",
      "Hi Ty\n"
     ]
    }
   ],
   "source": [
    "name = input(\"What is your name?\")\n",
    "\n",
    "while name == \"\":\n",
    "    print(\"You left the name field empty!\")\n",
    "    name = input(\"Please enter your name: \")\n",
    "\n",
    "name = name[0].upper() + name[1:]  # Capitalize the first letter\n",
    "\n",
    "print(\"Hi\", name)\n"
   ]
  },
  {
   "cell_type": "code",
   "execution_count": 49,
   "id": "d8c189ff",
   "metadata": {},
   "outputs": [
    {
     "name": "stdout",
     "output_type": "stream",
     "text": [
      "3.141592653589793\n",
      "3.141592653589793\n",
      "3141\n"
     ]
    }
   ],
   "source": [
    "import math\n",
    "print(str(math.pi))\n",
    "print(math.pi)\n",
    "print(int(1000*math.pi))"
   ]
  },
  {
   "cell_type": "markdown",
   "id": "fdfa4ef6",
   "metadata": {},
   "source": [
    "##  escape sequences\n",
    "\n"
   ]
  },
  {
   "cell_type": "code",
   "execution_count": 11,
   "id": "1953bd92",
   "metadata": {},
   "outputs": [
    {
     "name": "stdout",
     "output_type": "stream",
     "text": [
      "this has a \n",
      " newline escape sequence \\n\n",
      "this has a \t newline escape sequence \\t\n"
     ]
    }
   ],
   "source": [
    "print(\"this has a \\n newline escape sequence \\\\n\")\n",
    "\n",
    "print(\"this has a \\t newline escape sequence \\\\t\")"
   ]
  },
  {
   "cell_type": "markdown",
   "id": "e1f250a0",
   "metadata": {},
   "source": [
    "## the f-string method  \n",
    "provides more flexibility by allowing you to specify the order of the values, use named placeholders, and format the values in different ways using format specifiers. F-strings: F-strings provide a more concise and readable way of formatting strings in Python 3.6 and above. F-strings allow you to embed expressions directly within string literals by prefixing the string with the letter 'f' or 'F'. The expressions are enclosed in curly braces {}. Here's an example:\n",
    "F-strings are quite flexible and allow you to include variables, expressions, and even function calls within the curly braces.\n",
    "\n",
    "Format specifiers: Format specifiers allow you to control the formatting of the substituted values within the string. They can be added after a colon : within the curly braces {}. Format specifiers can specify the width, alignment, precision, and other formatting options. Here's an example:"
   ]
  },
  {
   "cell_type": "code",
   "execution_count": 28,
   "id": "9f646198",
   "metadata": {},
   "outputs": [
    {
     "name": "stdout",
     "output_type": "stream",
     "text": [
      "My name is Joe, and I am 70 years old.\n"
     ]
    },
    {
     "ename": "KeyboardInterrupt",
     "evalue": "Interrupted by user",
     "output_type": "error",
     "traceback": [
      "\u001b[1;31m---------------------------------------------------------------------------\u001b[0m",
      "\u001b[1;31mKeyboardInterrupt\u001b[0m                         Traceback (most recent call last)",
      "\u001b[1;32m~\\AppData\\Local\\Temp\\ipykernel_3732\\3085092425.py\u001b[0m in \u001b[0;36m<module>\u001b[1;34m\u001b[0m\n\u001b[0;32m      5\u001b[0m \u001b[0mprint\u001b[0m\u001b[1;33m(\u001b[0m\u001b[0mmessage\u001b[0m\u001b[1;33m)\u001b[0m  \u001b[1;31m# Output: My name is Joe, and I am 70 years old.\u001b[0m\u001b[1;33m\u001b[0m\u001b[1;33m\u001b[0m\u001b[0m\n\u001b[0;32m      6\u001b[0m \u001b[1;33m\u001b[0m\u001b[0m\n\u001b[1;32m----> 7\u001b[1;33m \u001b[0myour_name\u001b[0m\u001b[1;33m=\u001b[0m\u001b[0minput\u001b[0m\u001b[1;33m(\u001b[0m\u001b[1;34m\"What is your name?:\"\u001b[0m\u001b[1;33m)\u001b[0m\u001b[1;33m\u001b[0m\u001b[1;33m\u001b[0m\u001b[0m\n\u001b[0m\u001b[0;32m      8\u001b[0m \u001b[0myour_age\u001b[0m\u001b[1;33m=\u001b[0m\u001b[0minput\u001b[0m\u001b[1;33m(\u001b[0m\u001b[1;34m\"What is your age?:\"\u001b[0m\u001b[1;33m)\u001b[0m\u001b[1;33m\u001b[0m\u001b[1;33m\u001b[0m\u001b[0m\n",
      "\u001b[1;32mC:\\ProgramData\\Anaconda3\\lib\\site-packages\\ipykernel\\kernelbase.py\u001b[0m in \u001b[0;36mraw_input\u001b[1;34m(self, prompt)\u001b[0m\n\u001b[0;32m   1175\u001b[0m                 \u001b[1;34m\"raw_input was called, but this frontend does not support input requests.\"\u001b[0m\u001b[1;33m\u001b[0m\u001b[1;33m\u001b[0m\u001b[0m\n\u001b[0;32m   1176\u001b[0m             )\n\u001b[1;32m-> 1177\u001b[1;33m         return self._input_request(\n\u001b[0m\u001b[0;32m   1178\u001b[0m             \u001b[0mstr\u001b[0m\u001b[1;33m(\u001b[0m\u001b[0mprompt\u001b[0m\u001b[1;33m)\u001b[0m\u001b[1;33m,\u001b[0m\u001b[1;33m\u001b[0m\u001b[1;33m\u001b[0m\u001b[0m\n\u001b[0;32m   1179\u001b[0m             \u001b[0mself\u001b[0m\u001b[1;33m.\u001b[0m\u001b[0m_parent_ident\u001b[0m\u001b[1;33m[\u001b[0m\u001b[1;34m\"shell\"\u001b[0m\u001b[1;33m]\u001b[0m\u001b[1;33m,\u001b[0m\u001b[1;33m\u001b[0m\u001b[1;33m\u001b[0m\u001b[0m\n",
      "\u001b[1;32mC:\\ProgramData\\Anaconda3\\lib\\site-packages\\ipykernel\\kernelbase.py\u001b[0m in \u001b[0;36m_input_request\u001b[1;34m(self, prompt, ident, parent, password)\u001b[0m\n\u001b[0;32m   1217\u001b[0m             \u001b[1;32mexcept\u001b[0m \u001b[0mKeyboardInterrupt\u001b[0m\u001b[1;33m:\u001b[0m\u001b[1;33m\u001b[0m\u001b[1;33m\u001b[0m\u001b[0m\n\u001b[0;32m   1218\u001b[0m                 \u001b[1;31m# re-raise KeyboardInterrupt, to truncate traceback\u001b[0m\u001b[1;33m\u001b[0m\u001b[1;33m\u001b[0m\u001b[0m\n\u001b[1;32m-> 1219\u001b[1;33m                 \u001b[1;32mraise\u001b[0m \u001b[0mKeyboardInterrupt\u001b[0m\u001b[1;33m(\u001b[0m\u001b[1;34m\"Interrupted by user\"\u001b[0m\u001b[1;33m)\u001b[0m \u001b[1;32mfrom\u001b[0m \u001b[1;32mNone\u001b[0m\u001b[1;33m\u001b[0m\u001b[1;33m\u001b[0m\u001b[0m\n\u001b[0m\u001b[0;32m   1220\u001b[0m             \u001b[1;32mexcept\u001b[0m \u001b[0mException\u001b[0m\u001b[1;33m:\u001b[0m\u001b[1;33m\u001b[0m\u001b[1;33m\u001b[0m\u001b[0m\n\u001b[0;32m   1221\u001b[0m                 \u001b[0mself\u001b[0m\u001b[1;33m.\u001b[0m\u001b[0mlog\u001b[0m\u001b[1;33m.\u001b[0m\u001b[0mwarning\u001b[0m\u001b[1;33m(\u001b[0m\u001b[1;34m\"Invalid Message:\"\u001b[0m\u001b[1;33m,\u001b[0m \u001b[0mexc_info\u001b[0m\u001b[1;33m=\u001b[0m\u001b[1;32mTrue\u001b[0m\u001b[1;33m)\u001b[0m\u001b[1;33m\u001b[0m\u001b[1;33m\u001b[0m\u001b[0m\n",
      "\u001b[1;31mKeyboardInterrupt\u001b[0m: Interrupted by user"
     ]
    }
   ],
   "source": [
    "name = \"Joe\"\n",
    "age = 70\n",
    "\n",
    "message = f\"My name is {name}, and I am {age} years old.\"\n",
    "print(message)  # Output: My name is Joe, and I am 70 years old.\n",
    "\n",
    "your_name=input(\"What is your name?:\")\n",
    "your_age=input(\"What is your age?:\")"
   ]
  },
  {
   "cell_type": "code",
   "execution_count": 17,
   "id": "58b305b6",
   "metadata": {},
   "outputs": [
    {
     "name": "stdout",
     "output_type": "stream",
     "text": [
      "age?\n",
      "Your name is Joe and you are unknown years old.\n"
     ]
    }
   ],
   "source": [
    "\n",
    "age = input(\"age?\")\n",
    "if age == \"\":\n",
    "    age = \"unknown\"\n",
    "\n",
    "formatted_string = f\"Your name is {name} and you are {age} years old.\"\n",
    "print(formatted_string)"
   ]
  },
  {
   "cell_type": "code",
   "execution_count": 18,
   "id": "d6c7162d",
   "metadata": {},
   "outputs": [
    {
     "name": "stdout",
     "output_type": "stream",
     "text": [
      "My name is Alice and I am 25 years old.\n"
     ]
    }
   ],
   "source": [
    "\"\"\" Another way to format strings in Python is by using the format() method. \n",
    "This method is available on string objects and\n",
    "allows you to insert values into placeholders within a string. Placeholders are\n",
    "represented by curly braces {}. Here's an example:\"\"\"\n",
    "\n",
    "\n",
    "name = \"Alice\"\n",
    "age = 25\n",
    "formatted_string = \"My name is {} and I am {} years old.\".format(name, age)\n",
    "print(formatted_string)\n"
   ]
  },
  {
   "cell_type": "code",
   "execution_count": 77,
   "id": "79d17c8d",
   "metadata": {},
   "outputs": [
    {
     "name": "stdout",
     "output_type": "stream",
     "text": [
      "You had full irish for breakfast and Toasty for lunch.\n"
     ]
    }
   ],
   "source": [
    "breakfast=\"full irish\"\n",
    "lunch=\"Toasty\"\n",
    "print(f\"You had {breakfast} for breakfast and {lunch} for lunch.\")"
   ]
  },
  {
   "cell_type": "code",
   "execution_count": 3,
   "id": "ab39ddb8",
   "metadata": {},
   "outputs": [
    {
     "name": "stdout",
     "output_type": "stream",
     "text": [
      "The value of pi is approximately 3.14\n"
     ]
    }
   ],
   "source": [
    "pi = 3.14159\n",
    "formatted_string = \"The value of pi is approximately {:.2f}\".format(pi)\n",
    "print(formatted_string)\n"
   ]
  },
  {
   "cell_type": "code",
   "execution_count": 3,
   "id": "4b4e28e7",
   "metadata": {},
   "outputs": [
    {
     "name": "stdout",
     "output_type": "stream",
     "text": [
      "At least this way one you stay in the quote and two if makes sense.\n"
     ]
    }
   ],
   "source": [
    "one=\"one\"\n",
    "two=\"two\"\n",
    "string=\"At least this way {} you stay in the quote and {} if makes sense.\".format(one, two)\n",
    "print(string)"
   ]
  },
  {
   "cell_type": "code",
   "execution_count": 5,
   "id": "040de0e0",
   "metadata": {},
   "outputs": [
    {
     "data": {
      "text/plain": [
       "'My name is Alice. I am 30 years old.'"
      ]
     },
     "execution_count": 5,
     "metadata": {},
     "output_type": "execute_result"
    }
   ],
   "source": [
    "name = \"Alice\"\n",
    "age = 30\n",
    "\n",
    "message = f\"My name is {name}. I am {age} years old.\"\n",
    "message"
   ]
  },
  {
   "cell_type": "code",
   "execution_count": null,
   "id": "e72c510a",
   "metadata": {},
   "outputs": [],
   "source": [
    "name = \"Alice\"\n",
    "age = 30\n",
    "\n",
    "message = \"My name is {}. I am {} years old.\".format(name, age)\n"
   ]
  },
  {
   "cell_type": "markdown",
   "id": "7169422a",
   "metadata": {},
   "source": [
    "Both f-strings and the .format() method offer similar capabilities and can achieve similar results. The choice between them often comes down to personal preference and the specific requirements of your codebase.\n",
    "\n",
    "However, f-strings are generally favored for several reasons:\n",
    "\n",
    "Conciseness: F-strings provide a more compact and readable syntax, especially when embedding expressions directly within the string.\n",
    "Performance: F-strings are typically faster than the .format() method since the expressions are evaluated at compile-time rather than runtime.\n",
    "Integration with variables: F-strings allow you to directly reference variables without the need for indexing or positional arguments.\n",
    "Therefore, if you are using Python 3.6 or later, f-strings are generally recommended for string formatting due to their readability, performance benefits, and native integration with variables."
   ]
  },
  {
   "cell_type": "code",
   "execution_count": 7,
   "id": "c114b7bb",
   "metadata": {},
   "outputs": [
    {
     "data": {
      "text/plain": [
       "' My dogs name is spot and my cats name is Misty Moo'"
      ]
     },
     "execution_count": 7,
     "metadata": {},
     "output_type": "execute_result"
    }
   ],
   "source": [
    "dog=\"spot\"\n",
    "cat=\"Misty Moo\"\n",
    "\n",
    "fstring=f\" My dogs name is {dog} and my cats name is {cat}\"\n",
    "fstring"
   ]
  },
  {
   "cell_type": "code",
   "execution_count": 30,
   "id": "738e3a47",
   "metadata": {},
   "outputs": [
    {
     "data": {
      "text/plain": [
       "'CONVERTS ALL CHARACTERS IN A STRING TO UPPERCASE.'"
      ]
     },
     "execution_count": 30,
     "metadata": {},
     "output_type": "execute_result"
    }
   ],
   "source": [
    "str.upper(\"Converts all characters in a string to uppercase.\")"
   ]
  },
  {
   "cell_type": "code",
   "execution_count": 32,
   "id": "f43f9110",
   "metadata": {},
   "outputs": [
    {
     "data": {
      "text/plain": [
       "'converts all characters in a string to lowercase.'"
      ]
     },
     "execution_count": 32,
     "metadata": {},
     "output_type": "execute_result"
    }
   ],
   "source": [
    "str.lower(\"Converts ALL characters in a string to LOWERCASE.\")"
   ]
  },
  {
   "cell_type": "code",
   "execution_count": 34,
   "id": "2c558400",
   "metadata": {},
   "outputs": [
    {
     "ename": "NameError",
     "evalue": "name 'islower' is not defined",
     "output_type": "error",
     "traceback": [
      "\u001b[1;31m---------------------------------------------------------------------------\u001b[0m",
      "\u001b[1;31mNameError\u001b[0m                                 Traceback (most recent call last)",
      "\u001b[1;32m~\\AppData\\Local\\Temp\\ipykernel_3732\\3901647478.py\u001b[0m in \u001b[0;36m<module>\u001b[1;34m\u001b[0m\n\u001b[0;32m      1\u001b[0m \u001b[0mlower_str\u001b[0m\u001b[1;33m=\u001b[0m\u001b[0mstr\u001b[0m\u001b[1;33m.\u001b[0m\u001b[0mlower\u001b[0m\u001b[1;33m(\u001b[0m\u001b[1;34m\"Converts ALL characters in a string to LOWERCASE.\"\u001b[0m\u001b[1;33m)\u001b[0m\u001b[1;33m\u001b[0m\u001b[1;33m\u001b[0m\u001b[0m\n\u001b[1;32m----> 2\u001b[1;33m \u001b[0mislower\u001b[0m\u001b[1;33m(\u001b[0m\u001b[0mlower_str\u001b[0m\u001b[1;33m)\u001b[0m\u001b[1;33m\u001b[0m\u001b[1;33m\u001b[0m\u001b[0m\n\u001b[0m",
      "\u001b[1;31mNameError\u001b[0m: name 'islower' is not defined"
     ]
    }
   ],
   "source": [
    "lower_str=str.lower(\"Converts ALL characters in a string to LOWERCASE.\")\n",
    "islower(lower_str)"
   ]
  },
  {
   "cell_type": "markdown",
   "id": "7a9a756c",
   "metadata": {},
   "source": [
    "In the islower() method, you need to call it on the string itself rather than passing the string as an argument to islower(). Here's the corrected code:"
   ]
  },
  {
   "cell_type": "code",
   "execution_count": 36,
   "id": "49f87f0c",
   "metadata": {},
   "outputs": [
    {
     "name": "stdout",
     "output_type": "stream",
     "text": [
      "True\n"
     ]
    },
    {
     "data": {
      "text/plain": [
       "False"
      ]
     },
     "execution_count": 36,
     "metadata": {},
     "output_type": "execute_result"
    }
   ],
   "source": [
    "lower_str = str.lower(\"Converts ALL characters in a string to LOWERCASE.\")\n",
    "result = lower_str.islower()\n",
    "print(result)\n",
    "\"Is thisA ALL lower\".islower()"
   ]
  },
  {
   "cell_type": "code",
   "execution_count": 15,
   "id": "947d0590",
   "metadata": {},
   "outputs": [
    {
     "data": {
      "text/plain": [
       "'Converts ALL characters in a string to lowercase.'"
      ]
     },
     "execution_count": 15,
     "metadata": {},
     "output_type": "execute_result"
    }
   ],
   "source": [
    "str.strip(\"Converts ALL characters in a string to lowercase.             \")"
   ]
  },
  {
   "cell_type": "code",
   "execution_count": 42,
   "id": "0df01e4d",
   "metadata": {},
   "outputs": [
    {
     "data": {
      "text/plain": [
       "'      HELLO    MIX OF UPPER AND     LOWER NEEDS A STRIP          '"
      ]
     },
     "execution_count": 42,
     "metadata": {},
     "output_type": "execute_result"
    }
   ],
   "source": [
    "text=\"      Hello    Mix of upper and     LOWER Needs a strip          \"\n",
    "text.upper()"
   ]
  },
  {
   "cell_type": "code",
   "execution_count": 43,
   "id": "9a591953",
   "metadata": {},
   "outputs": [
    {
     "data": {
      "text/plain": [
       "'      hello    mix of upper and     lower needs a strip          '"
      ]
     },
     "execution_count": 43,
     "metadata": {},
     "output_type": "execute_result"
    }
   ],
   "source": [
    "text.lower()"
   ]
  },
  {
   "cell_type": "code",
   "execution_count": 44,
   "id": "d3e9bd08",
   "metadata": {},
   "outputs": [
    {
     "data": {
      "text/plain": [
       "'Hello    Mix of upper and     LOWER Needs a strip'"
      ]
     },
     "execution_count": 44,
     "metadata": {},
     "output_type": "execute_result"
    }
   ],
   "source": [
    "text.strip()"
   ]
  },
  {
   "cell_type": "code",
   "execution_count": null,
   "id": "f49e4c60",
   "metadata": {},
   "outputs": [],
   "source": [
    "# Define a sample string\n",
    "my_string = \"        Hello, World!   \"\n",
    "\n",
    "# Convert the string to uppercase\n",
    "upper_string = my_string.upper()\n",
    "print(\"Uppercase:\", upper_string)"
   ]
  },
  {
   "cell_type": "code",
   "execution_count": null,
   "id": "e1c84310",
   "metadata": {},
   "outputs": [],
   "source": [
    "# Convert the string to lowercase\n",
    "lower_string = my_string.lower()\n",
    "print(\"Lowercase:\", lower_string)"
   ]
  },
  {
   "cell_type": "code",
   "execution_count": null,
   "id": "93bde578",
   "metadata": {},
   "outputs": [],
   "source": [
    "# Remove whitespace from the beginning and end of the string\n",
    "stripped_string = my_string.strip()\n",
    "print(\"Stripped:\", stripped_string)"
   ]
  },
  {
   "cell_type": "markdown",
   "id": "6382bbbe",
   "metadata": {},
   "source": [
    "## Split method"
   ]
  },
  {
   "cell_type": "code",
   "execution_count": 55,
   "id": "9d9eed0c",
   "metadata": {},
   "outputs": [
    {
     "name": "stdout",
     "output_type": "stream",
     "text": [
      "['Monday', 'tuesday', 'wednesday', 'thursday', 'friday', 'saturday', 'sunday']\n",
      "Split List: ['hello', 'world']\n"
     ]
    }
   ],
   "source": [
    " # Split the string into a list of substrings based on a space separator\n",
    "weekday=\"Monday tuesday wednesday thursday friday saturday sunday\"\n",
    "splitWeek=weekday.split()\n",
    "print(splitWeek)\n",
    "split_list = my_string.split()\n",
    "print(\"Split List:\", split_list)"
   ]
  },
  {
   "cell_type": "code",
   "execution_count": 57,
   "id": "0a4ab189",
   "metadata": {},
   "outputs": [
    {
     "name": "stdout",
     "output_type": "stream",
     "text": [
      "Joined String: hello,world\n",
      "Replaced String: hello world\n",
      "Starts with space: False\n"
     ]
    }
   ],
   "source": [
    "# Join the list of strings into a single string using a comma separator\n",
    "joined_string = \",\".join(split_list)\n",
    "print(\"Joined String:\", joined_string)\n",
    "\n",
    "# Replace \"Hello\" with \"Hi\" in the string\n",
    "replaced_string = my_string.replace(\"Hello\", \"Hi\")\n",
    "print(\"Replaced String:\", replaced_string)\n",
    "\n",
    "# Check if the string starts with \"   \"\n",
    "starts_with_space = my_string.startswith(\"   \")\n",
    "print(\"Starts with space:\", starts_with_space)\n",
    "\n",
    "# Check if the string ends with \""
   ]
  },
  {
   "cell_type": "markdown",
   "id": "9dcc3115",
   "metadata": {},
   "source": [
    "## Pascal Camel and Snake Case custom functions\n",
    "\n",
    "In the to_pascal_case function, we split the input string into a list of words using the split() method. Then, we capitalize the first letter of each word using the capitalize() method and join them together using join(). This produces the PascalCase string.\n",
    "\n"
   ]
  },
  {
   "cell_type": "code",
   "execution_count": 65,
   "id": "e4221364",
   "metadata": {},
   "outputs": [],
   "source": [
    "import re\n",
    "def to_pascal_case(string):\n",
    "    words = string.split()\n",
    "    pascal_case = ''.join(word.capitalize() for word in words)\n",
    "    return pascal_case\n",
    "\n",
    "def to_camel_case(string):\n",
    "    words = string.split()\n",
    "    camel_case = words[0].lower() + ''.join(word.capitalize() for word in words[1:])\n",
    "    return camel_case\n",
    "\n",
    "def to_snake_case(string):\n",
    "    snake_case = re.sub(r'\\W+', '_', string)\n",
    "    snake_case = snake_case.lower()\n",
    "    return snake_case"
   ]
  },
  {
   "cell_type": "code",
   "execution_count": 66,
   "id": "337849f4",
   "metadata": {},
   "outputs": [
    {
     "name": "stdout",
     "output_type": "stream",
     "text": [
      "iAmAStupidStringIAmHelloWorld\n",
      "IAmAStupidStringIAmHelloWorld\n",
      "i_am_a_stupid_string_i_am_hello_world\n"
     ]
    }
   ],
   "source": [
    "# Example usage\n",
    "test_string = \"i am a stupid String I am hello world\"\n",
    "print( to_camel_case(test_string))\n",
    "print(to_pascal_case(test_string))\n",
    "print(to_snake_case(test_string))"
   ]
  },
  {
   "cell_type": "code",
   "execution_count": 49,
   "id": "b040a7e8",
   "metadata": {},
   "outputs": [
    {
     "name": "stdout",
     "output_type": "stream",
     "text": [
      "helloWorld\n",
      "HelloWorld\n"
     ]
    }
   ],
   "source": [
    "# Example usage\n",
    "my_string = \"hello world\"\n",
    "pascal_case_string = to_pascal_case(my_string)\n",
    "print(pascal_case_string)  # Output: HelloWorld"
   ]
  },
  {
   "cell_type": "code",
   "execution_count": 51,
   "id": "65740018",
   "metadata": {},
   "outputs": [
    {
     "data": {
      "text/plain": [
       "'thisWillBeCamelCase'"
      ]
     },
     "execution_count": 51,
     "metadata": {},
     "output_type": "execute_result"
    }
   ],
   "source": [
    "to_camel_case(\"this will be camel case\")"
   ]
  },
  {
   "cell_type": "code",
   "execution_count": 54,
   "id": "640aa153",
   "metadata": {},
   "outputs": [
    {
     "data": {
      "text/plain": [
       "'ThisWillBeANewCase'"
      ]
     },
     "execution_count": 54,
     "metadata": {},
     "output_type": "execute_result"
    }
   ],
   "source": [
    "to_pascal_case(\"this will be a new case\")"
   ]
  },
  {
   "cell_type": "code",
   "execution_count": 18,
   "id": "dd940eca",
   "metadata": {},
   "outputs": [
    {
     "data": {
      "text/plain": [
       "'Monday'"
      ]
     },
     "execution_count": 18,
     "metadata": {},
     "output_type": "execute_result"
    }
   ],
   "source": [
    "str.replace(\"Monday\", \"Tuesday\",\"I arrived on Monday\")"
   ]
  },
  {
   "cell_type": "code",
   "execution_count": null,
   "id": "2cb34194",
   "metadata": {},
   "outputs": [],
   "source": [
    "Uppercase:    HELLO, WORLD!   \n",
    "Lowercase:    hello, world!   \n",
    "Stripped: Hello, World!\n",
    "Split List: ['Hello,', 'World!']\n",
    "Joined String: Hello,,World!\n",
    "Replaced String:    Hi, World!   \n",
    "Starts with space: True\n",
    "Ends with exclamation: True\n"
   ]
  },
  {
   "cell_type": "code",
   "execution_count": null,
   "id": "457daf50",
   "metadata": {},
   "outputs": [],
   "source": []
  },
  {
   "cell_type": "markdown",
   "id": "59419eb9",
   "metadata": {},
   "source": [
    "In this example, we start with a string that has leading and trailing whitespace. We apply each of the mentioned string methods to manipulate and analyze the string in different ways, and print the results for each operation.\n"
   ]
  },
  {
   "cell_type": "markdown",
   "id": "c217abb5",
   "metadata": {},
   "source": [
    "Certainly! Here are some commonly used string methods in Python:\n",
    "\n",
    "1. `capitalize()`: Converts the first character of the string to uppercase and converts the rest to lowercase.\n",
    "2. `casefold()`: Returns a casefolded version of the string, suitable for case-insensitive comparisons.\n",
    "3. `lower()`: Converts all characters in the string to lowercase.\n",
    "4. `upper()`: Converts all characters in the string to uppercase.\n",
    "5. `swapcase()`: Swaps the case of all characters in the string, converting lowercase to uppercase and vice versa.\n",
    "6. `title()`: Converts the first character of each word in the string to uppercase and the remaining characters to lowercase.\n",
    "7. `strip()`: Removes leading and trailing whitespace characters from the string.\n",
    "8. `lstrip()`: Removes leading whitespace characters from the string.\n",
    "9. `rstrip()`: Removes trailing whitespace characters from the string.\n",
    "10. `split()`: Splits the string into a list of substrings based on a delimiter.\n",
    "11. `join()`: Joins the elements of an iterable (such as a list) into a string, using the string as a delimiter.\n",
    "12. `replace()`: Replaces occurrences of a specified substring with another substring.\n",
    "13. `startswith()`: Checks if the string starts with a specified substring.\n",
    "14. `endswith()`: Checks if the string ends with a specified substring.\n",
    "15. `find()`: Returns the index of the first occurrence of a specified substring in the string.\n",
    "16. `count()`: Returns the number of occurrences of a specified substring in the string.\n",
    "17. `isalpha()`: Checks if all characters in the string are alphabetic.\n",
    "18. `isdigit()`: Checks if all characters in the string are digits.\n",
    "19. `islower()`: Checks if all characters in the string are lowercase.\n",
    "20. `isupper()`: Checks if all characters in the string are uppercase.\n",
    "\n",
    "These are just a few examples of the many string methods available in Python. You can find more information and examples in the Python documentation: https://docs.python.org/3/library/stdtypes.html#string-methods"
   ]
  }
 ],
 "metadata": {
  "kernelspec": {
   "display_name": "Python 3 (ipykernel)",
   "language": "python",
   "name": "python3"
  },
  "language_info": {
   "codemirror_mode": {
    "name": "ipython",
    "version": 3
   },
   "file_extension": ".py",
   "mimetype": "text/x-python",
   "name": "python",
   "nbconvert_exporter": "python",
   "pygments_lexer": "ipython3",
   "version": "3.9.13"
  },
  "toc": {
   "base_numbering": 1,
   "nav_menu": {},
   "number_sections": true,
   "sideBar": true,
   "skip_h1_title": true,
   "title_cell": "Table of Contents",
   "title_sidebar": "Contents",
   "toc_cell": false,
   "toc_position": {
    "height": "calc(100% - 180px)",
    "left": "10px",
    "top": "150px",
    "width": "233.5px"
   },
   "toc_section_display": true,
   "toc_window_display": false
  }
 },
 "nbformat": 4,
 "nbformat_minor": 5
}
