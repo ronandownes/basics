{
 "cells": [
  {
   "cell_type": "markdown",
   "id": "e4949547",
   "metadata": {},
   "source": [
    "git add . && git commit -m \"Update files\" && git push origin main\n",
    "\n",
    "# Conditional Statements in Python\n",
    "\n",
    "\n",
    "In addition to the `while` loop, Python has several other conditional statements that are commonly used:\n",
    "\n",
    "1. `if` statement: The `if` statement is used to execute a block of code only if a certain condition is true. It is often followed by an optional `elif` (short for \"else if\") statement to specify additional conditions, and an optional `else` statement to specify what should happen if none of the conditions are met.\n",
    "\n",
    "2. `for` loop: The `for` loop is used to iterate over a sequence (such as a list, tuple, or string) or other iterable objects. It allows you to execute a block of code for each item in the sequence.\n",
    "\n",
    "3. `try`-`except` statement: The `try`-`except` statement is used for exception handling. It allows you to handle specific types of exceptions that may occur in your code. The `try` block contains the code that might raise an exception, and the `except` block specifies how to handle the exception if it occurs.\n",
    "\n",
    "4. `break` statement: The `break` statement is used to exit a loop prematurely. When encountered within a loop, it immediately terminates the loop and control moves to the next statement after the loop.\n",
    "\n",
    "5. `continue` statement: The `continue` statement is used to skip the rest of the current iteration in a loop and move on to the next iteration. It causes the loop to go to the next iteration without executing the remaining code in the loop body.\n",
    "\n",
    "6. `pass` statement: The `pass` statement is used as a placeholder when a statement is required syntactically but you don't want to perform any action. It is often used as a placeholder for code that will be implemented later.\n",
    "\n",
    "These are some of the most commonly used conditional statements in Python. They allow you to control the flow of your program based on certain conditions or iterate over sequences of data."
   ]
  },
  {
   "cell_type": "code",
   "execution_count": 1,
   "id": "050bc342",
   "metadata": {},
   "outputs": [],
   "source": [
    "# pip install num2words\n",
    "# \"Conditional Statements in Python\".title()"
   ]
  },
  {
   "cell_type": "markdown",
   "id": "c6caf28d",
   "metadata": {},
   "source": [
    "## Import libraries\n",
    "\n",
    "\n",
    "Example use cases for \n",
    "conditional statements in Python:\n",
    "\n",
    "\n",
    "The statement \"from num2words import num2words\" is a Python import statement. It is used to import the \"num2words\" function from the \"num2words\" module/library.\n",
    "\n",
    "The \"num2words\" library is a Python package that provides a function for converting numbers into their word representation. For example, it can convert the number 42 into the string \"forty-two\". By importing the \"num2words\" function, you can use it in your code to perform number-to-word conversions."
   ]
  },
  {
   "cell_type": "code",
   "execution_count": 6,
   "id": "80750976",
   "metadata": {
    "scrolled": true
   },
   "outputs": [
    {
     "name": "stdout",
     "output_type": "stream",
     "text": [
      "Enter an integer?232\n",
      "The number two hundred and thirty-two is positive.\n"
     ]
    }
   ],
   "source": [
    "# Checking if elif else  a number is positive, negative, or zero\n",
    "# num = input(int(\"An integer?\"))\n",
    "num = int(input(\"Enter an integer?\"))\n",
    "from num2words import num2words\n",
    "numword=num2words(num)\n",
    "\n",
    "if num > 0:\n",
    "    print(f\"The number {numword} is positive.\")\n",
    "elif num < 0:\n",
    "    print(f\"The number {numword} is negative.\")\n",
    "else:\n",
    "    print(f\"The number {num} is zero.\")"
   ]
  },
  {
   "cell_type": "code",
   "execution_count": null,
   "id": "5de29f67",
   "metadata": {},
   "outputs": [],
   "source": [
    "\n",
    "num = int(input(\"Enter a big positive integer?\"))\n",
    "\n",
    "numword=num2words(num)\n",
    "\n",
    "if num < 9:\n",
    "   \n",
    "    print(f\"The number {numword} is not really big.\")\n",
    "    \n",
    "elif 10 <num < 99:\n",
    "    \n",
    "    print(f\"The number {numword} is only double digit and is not really big.\")\n",
    "elif 100 <num < 999:\n",
    "    \n",
    "    print(f\"The number {numword} is only triple digit and is only a little  big.\")   \n",
    "    \n",
    "    elif 100 <num < 999:\n",
    "    \n",
    "    print(f\"The number {numword} is only triple digit and is only a little  big.\")    \n",
    "else:\n",
    "    \n",
    "\n",
    "    print(f\"The number {num} is very big.\")"
   ]
  },
  {
   "cell_type": "markdown",
   "id": "f2faf5ed",
   "metadata": {},
   "source": [
    "## design and test your loop conditions\n",
    "\n",
    "A while loop is used when you want to repeatedly execute a block of code as long as a certain condition is true. It provides a way to create loops that are not based on iterating over a sequence or known number of iterations, but rather on a condition that determines whether the loop should continue or terminate.\n",
    "\n",
    "Here are a few scenarios where a while loop can be useful:\n",
    "\n",
    "1. User Input Validation: You can use a while loop to repeatedly prompt the user for input until they provide valid input. For example, if you expect the user to enter a positive number, you can keep prompting until they enter a valid positive number.\n",
    "\n",
    "2. Dynamic Looping: In situations where the number of iterations is not known in advance, a while loop can be used. You can define a condition that is checked at the beginning or end of each iteration, allowing the loop to continue as long as the condition is true. This is useful when working with dynamic data or when the loop termination is determined by some external factor.\n",
    "\n",
    "3. Event-driven Programming: While loops are often used in event-driven programming where you continuously check for events or conditions and react accordingly. The loop keeps running until a specific event or condition occurs, at which point the loop can be terminated or modified.\n",
    "\n",
    "4. Complex Exit Conditions: While loops provide flexibility in defining complex exit conditions that may not be easily expressed using a for loop. You can use break statements within the loop to exit early based on specific conditions.\n",
    "\n",
    "While loops can be powerful, it's important to ensure that the loop condition will eventually become false to avoid infinite loops. You should carefully design and test your loop conditions to guarantee that the loop terminates under expected circumstances."
   ]
  },
  {
   "cell_type": "code",
   "execution_count": null,
   "id": "d72fb837",
   "metadata": {},
   "outputs": [],
   "source": [
    "count = 0\n",
    "while count < 13:\n",
    "    print(\"Count so far is :\", count)\n",
    "    count += 1\n"
   ]
  },
  {
   "cell_type": "code",
   "execution_count": null,
   "id": "430373fd",
   "metadata": {},
   "outputs": [],
   "source": [
    "import time\n",
    "from num2words import num2words\n",
    "start_time = time.time()\n",
    "\n",
    "# Your while loop code here\n",
    "counter = 0\n",
    "while counter < 3*10**7:\n",
    "    counter += 1\n",
    "    \n",
    "\n",
    "end_time = time.time()\n",
    "execution_time = end_time - start_time\n",
    "words = num2words(counter)\n",
    "print(f\"I counted to {words} in an Execution time of {execution_time}.\")\n",
    "\n"
   ]
  },
  {
   "cell_type": "code",
   "execution_count": null,
   "id": "87c9f883",
   "metadata": {},
   "outputs": [],
   "source": [
    "2. `for` loop:\n",
    "```python\n",
    "# Iterating over a list of names and printing a greeting for each name\n",
    "names = [\"Alice\", \"Bob\", \"Charlie\"]\n",
    "for name in names:\n",
    "    print(\"Hello,\", name)\n",
    "```\n",
    "\n",
    "3. `try`-`except` statement:\n",
    "```python\n",
    "# Handling division by zero exception\n",
    "try:\n",
    "    result = 10 / 0\n",
    "except ZeroDivisionError:\n",
    "    print(\"Error: Division by zero occurred.\")\n",
    "```\n",
    "\n",
    "4. `break` statement:\n",
    "```python\n",
    "# Searching for a number in a list\n",
    "numbers = [1, 5, 8, 10, 3, 7]\n",
    "search_number = 10\n",
    "for num in numbers:\n",
    "    if num == search_number:\n",
    "        print(\"Number found!\")\n",
    "        break\n",
    "else:\n",
    "    print(\"Number not found.\")\n",
    "```\n",
    "\n",
    "5. `continue` statement:\n",
    "```python\n",
    "# Printing even numbers in a range\n",
    "for i in range(1, 10):\n",
    "    if i % 2 != 0:\n",
    "        continue\n",
    "    print(i)\n",
    "```\n",
    "\n",
    "6. `pass` statement:\n",
    "```python\n",
    "# Placeholder for an empty function\n",
    "def some_function():\n",
    "    pass\n",
    "```\n",
    "\n",
    "These examples demonstrate how each conditional statement can be used to control the program flow or handle specific situations. Remember, these are just a few examples, and the use cases for these statements can vary depending on your specific requirements and logic."
   ]
  }
 ],
 "metadata": {
  "kernelspec": {
   "display_name": "Python 3 (ipykernel)",
   "language": "python",
   "name": "python3"
  },
  "language_info": {
   "codemirror_mode": {
    "name": "ipython",
    "version": 3
   },
   "file_extension": ".py",
   "mimetype": "text/x-python",
   "name": "python",
   "nbconvert_exporter": "python",
   "pygments_lexer": "ipython3",
   "version": "3.9.13"
  },
  "toc": {
   "base_numbering": 1,
   "nav_menu": {},
   "number_sections": true,
   "sideBar": true,
   "skip_h1_title": true,
   "title_cell": "Table of Contents",
   "title_sidebar": "Contents",
   "toc_cell": false,
   "toc_position": {
    "height": "calc(100% - 180px)",
    "left": "10px",
    "top": "150px",
    "width": "165px"
   },
   "toc_section_display": true,
   "toc_window_display": true
  }
 },
 "nbformat": 4,
 "nbformat_minor": 5
}
