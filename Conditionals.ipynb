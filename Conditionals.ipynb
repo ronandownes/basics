{
 "cells": [
  {
   "cell_type": "markdown",
   "id": "f866ec48",
   "metadata": {},
   "source": [
    "In addition to the `while` loop, Python has several other conditional statements that are commonly used:\n",
    "\n",
    "1. `if` statement: The `if` statement is used to execute a block of code only if a certain condition is true. It is often followed by an optional `elif` (short for \"else if\") statement to specify additional conditions, and an optional `else` statement to specify what should happen if none of the conditions are met.\n",
    "\n",
    "2. `for` loop: The `for` loop is used to iterate over a sequence (such as a list, tuple, or string) or other iterable objects. It allows you to execute a block of code for each item in the sequence.\n",
    "\n",
    "3. `try`-`except` statement: The `try`-`except` statement is used for exception handling. It allows you to handle specific types of exceptions that may occur in your code. The `try` block contains the code that might raise an exception, and the `except` block specifies how to handle the exception if it occurs.\n",
    "\n",
    "4. `break` statement: The `break` statement is used to exit a loop prematurely. When encountered within a loop, it immediately terminates the loop and control moves to the next statement after the loop.\n",
    "\n",
    "5. `continue` statement: The `continue` statement is used to skip the rest of the current iteration in a loop and move on to the next iteration. It causes the loop to go to the next iteration without executing the remaining code in the loop body.\n",
    "\n",
    "6. `pass` statement: The `pass` statement is used as a placeholder when a statement is required syntactically but you don't want to perform any action. It is often used as a placeholder for code that will be implemented later.\n",
    "\n",
    "These are some of the most commonly used conditional statements in Python. They allow you to control the flow of your program based on certain conditions or iterate over sequences of data."
   ]
  },
  {
   "cell_type": "markdown",
   "id": "f68c0b6b",
   "metadata": {},
   "source": [
    "Certainly! Here are some example use cases for each of the conditional statements in Python:"
   ]
  },
  {
   "cell_type": "code",
   "execution_count": 8,
   "id": "32f8dcbc",
   "metadata": {},
   "outputs": [
    {
     "name": "stdout",
     "output_type": "stream",
     "text": [
      "An integer?0\n",
      "The number 0 is zero.\n"
     ]
    }
   ],
   "source": [
    "# Checking if a number is positive, negative, or zero\n",
    "# num = input(int(\"An integer?\"))\n",
    "\n",
    "num = int(input(\"An integer?\"))\n",
    "\n",
    "if num > 0:\n",
    "    \n",
    "    print(f\"The number {num} is positive.\")\n",
    "    \n",
    "elif num < 0:\n",
    "    \n",
    "    print(f\"The number {num} is negative.\")\n",
    "else:\n",
    "    print(f\"The number {num} is zero.\")"
   ]
  },
  {
   "cell_type": "code",
   "execution_count": null,
   "id": "305efa15",
   "metadata": {},
   "outputs": [],
   "source": [
    "```"
   ]
  },
  {
   "cell_type": "code",
   "execution_count": null,
   "id": "9efcec18",
   "metadata": {},
   "outputs": [],
   "source": [
    "2. `for` loop:\n",
    "```python\n",
    "# Iterating over a list of names and printing a greeting for each name\n",
    "names = [\"Alice\", \"Bob\", \"Charlie\"]\n",
    "for name in names:\n",
    "    print(\"Hello,\", name)\n",
    "```\n",
    "\n",
    "3. `try`-`except` statement:\n",
    "```python\n",
    "# Handling division by zero exception\n",
    "try:\n",
    "    result = 10 / 0\n",
    "except ZeroDivisionError:\n",
    "    print(\"Error: Division by zero occurred.\")\n",
    "```\n",
    "\n",
    "4. `break` statement:\n",
    "```python\n",
    "# Searching for a number in a list\n",
    "numbers = [1, 5, 8, 10, 3, 7]\n",
    "search_number = 10\n",
    "for num in numbers:\n",
    "    if num == search_number:\n",
    "        print(\"Number found!\")\n",
    "        break\n",
    "else:\n",
    "    print(\"Number not found.\")\n",
    "```\n",
    "\n",
    "5. `continue` statement:\n",
    "```python\n",
    "# Printing even numbers in a range\n",
    "for i in range(1, 10):\n",
    "    if i % 2 != 0:\n",
    "        continue\n",
    "    print(i)\n",
    "```\n",
    "\n",
    "6. `pass` statement:\n",
    "```python\n",
    "# Placeholder for an empty function\n",
    "def some_function():\n",
    "    pass\n",
    "```\n",
    "\n",
    "These examples demonstrate how each conditional statement can be used to control the program flow or handle specific situations. Remember, these are just a few examples, and the use cases for these statements can vary depending on your specific requirements and logic."
   ]
  }
 ],
 "metadata": {
  "kernelspec": {
   "display_name": "Python 3 (ipykernel)",
   "language": "python",
   "name": "python3"
  },
  "language_info": {
   "codemirror_mode": {
    "name": "ipython",
    "version": 3
   },
   "file_extension": ".py",
   "mimetype": "text/x-python",
   "name": "python",
   "nbconvert_exporter": "python",
   "pygments_lexer": "ipython3",
   "version": "3.9.13"
  },
  "toc": {
   "base_numbering": 1,
   "nav_menu": {},
   "number_sections": true,
   "sideBar": true,
   "skip_h1_title": true,
   "title_cell": "Table of Contents",
   "title_sidebar": "Contents",
   "toc_cell": false,
   "toc_position": {},
   "toc_section_display": true,
   "toc_window_display": true
  }
 },
 "nbformat": 4,
 "nbformat_minor": 5
}
