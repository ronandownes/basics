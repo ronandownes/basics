{
 "cells": [
  {
   "cell_type": "markdown",
   "id": "63a63f92",
   "metadata": {},
   "source": [
    "A tuple is an ordered, immutable collection of elements enclosed in parentheses. Each element in a tuple is separated by a comma. The immutability of tuples means that once created, their elements cannot be modified.\n",
    "\n",
    "Here's an example of creating a tuple:"
   ]
  },
  {
   "cell_type": "code",
   "execution_count": 3,
   "id": "d564a7f8",
   "metadata": {},
   "outputs": [
    {
     "data": {
      "text/plain": [
       "(1, 2, 3, 'a', 'b', 'c')"
      ]
     },
     "execution_count": 3,
     "metadata": {},
     "output_type": "execute_result"
    }
   ],
   "source": [
    "my_tuple = (1, 2, 3, 'a', 'b', 'c')\n",
    "my_tuple"
   ]
  },
  {
   "cell_type": "markdown",
   "id": "47235aef",
   "metadata": {},
   "source": [
    "Tuples can also be created without parentheses, as long as there's a comma:\n",
    "\n"
   ]
  },
  {
   "cell_type": "code",
   "execution_count": 4,
   "id": "047e0401",
   "metadata": {},
   "outputs": [
    {
     "data": {
      "text/plain": [
       "(4, 5, 6)"
      ]
     },
     "execution_count": 4,
     "metadata": {},
     "output_type": "execute_result"
    }
   ],
   "source": [
    "another_tuple = 4, 5, 6\n",
    "another_tuple"
   ]
  },
  {
   "cell_type": "markdown",
   "id": "bf6862c9",
   "metadata": {},
   "source": [
    "Tuples can contain elements of different types, such as numbers, strings, or even other tuples. They can be used to store related pieces of data together.\n",
    "\n",
    "Now let's explore some typical usage and contexts for tuples in Python:\n",
    "\n",
    "Grouping related values: Tuples are commonly used to group multiple values together when the order and structure of the data are important. For example, you might use a tuple to store the coordinates of a point in a 2D or 3D space."
   ]
  },
  {
   "cell_type": "code",
   "execution_count": 5,
   "id": "a7dd5a33",
   "metadata": {},
   "outputs": [],
   "source": [
    "point_2d = (3, 4)\n",
    "point_3d = (1, 2, 3)\n"
   ]
  },
  {
   "cell_type": "markdown",
   "id": "b7ed8ea2",
   "metadata": {},
   "source": [
    "Returning multiple values from functions: Functions in Python can return multiple values as a tuple. This allows you to efficiently pack and unpack multiple values in a concise way."
   ]
  },
  {
   "cell_type": "code",
   "execution_count": null,
   "id": "295d5b82",
   "metadata": {},
   "outputs": [],
   "source": [
    "def get_person_details():\n",
    "    name = 'John Doe'\n",
    "    age = 30\n",
    "    country = 'USA'\n",
    "    return name, age, country\n",
    "\n",
    "person_name, person_age, person_country = get_person_details()\n"
   ]
  },
  {
   "cell_type": "markdown",
   "id": "7ed7ca3c",
   "metadata": {},
   "source": [
    "1. Immutable data structures: Tuples are immutable, meaning you cannot modify their elements or size once created. This immutability makes tuples useful when you want to ensure that the data remains constant and cannot be accidentally changed.\n",
    "\n",
    "2. Dictionary keys: Tuples can be used as keys in dictionaries because they are immutable. Since lists are mutable and their elements can be modified, they cannot be used as dictionary keys.\n",
    "\n"
   ]
  },
  {
   "cell_type": "code",
   "execution_count": 6,
   "id": "b47c10a9",
   "metadata": {},
   "outputs": [],
   "source": [
    "my_dict = {('John', 30): 'USA', ('Jane', 25): 'UK'}\n"
   ]
  },
  {
   "cell_type": "markdown",
   "id": "66320ba6",
   "metadata": {},
   "source": [
    "Tuple packing and unpacking: You can pack and unpack tuples by assigning them to variables. Tuple packing is when you create a tuple by separating values with commas, and tuple unpacking is when you assign the elements of a tuple to individual variables."
   ]
  },
  {
   "cell_type": "code",
   "execution_count": 8,
   "id": "78a95ab7",
   "metadata": {},
   "outputs": [],
   "source": [
    "# Packing\n",
    "my_tuple = 1, 2, 3\n",
    "\n",
    "# Unpacking\n",
    "x, y, z = my_tuple\n"
   ]
  },
  {
   "cell_type": "code",
   "execution_count": 9,
   "id": "0a998e74",
   "metadata": {},
   "outputs": [
    {
     "data": {
      "text/plain": [
       "(1, 2, 3)"
      ]
     },
     "execution_count": 9,
     "metadata": {},
     "output_type": "execute_result"
    }
   ],
   "source": [
    "my_tuple"
   ]
  },
  {
   "cell_type": "code",
   "execution_count": null,
   "id": "71bff700",
   "metadata": {},
   "outputs": [],
   "source": []
  },
  {
   "cell_type": "markdown",
   "id": "00ccaf3d",
   "metadata": {},
   "source": [
    "\n",
    "Tuple packing and unpacking are powerful features in Python that allow you to assign and extract multiple values to and from a tuple. Let's dive deeper into tuple packing and unpacking:\n",
    "\n",
    "Tuple Packing:\n",
    "Tuple packing refers to the process of creating a tuple by grouping multiple values together. To pack a tuple, you simply separate the values with commas, and optionally enclose them in parentheses for clarity."
   ]
  },
  {
   "cell_type": "code",
   "execution_count": null,
   "id": "1d6a9b58",
   "metadata": {},
   "outputs": [],
   "source": [
    "my_tuple = 1, 2, 3\n"
   ]
  },
  {
   "cell_type": "markdown",
   "id": "abc14221",
   "metadata": {},
   "source": [
    "In this example, we have packed three values (1, 2, 3) into a tuple called my_tuple.\n",
    "\n",
    "You can also explicitly use parentheses to enhance readability:"
   ]
  },
  {
   "cell_type": "code",
   "execution_count": null,
   "id": "6a82f69c",
   "metadata": {},
   "outputs": [],
   "source": [
    "my_tuple = (1, 2, 3)\n"
   ]
  },
  {
   "cell_type": "markdown",
   "id": "722537e7",
   "metadata": {},
   "source": [
    "The result is the same. The values are packed into a tuple regardless of whether you use parentheses or not.\n",
    "\n",
    "Tuple Unpacking:\n",
    "Tuple unpacking allows you to assign the elements of a tuple to individual variables. This is done by providing the same number of variables as the number of elements in the tuple, and separating them with commas."
   ]
  },
  {
   "cell_type": "code",
   "execution_count": 13,
   "id": "1e531ade",
   "metadata": {},
   "outputs": [],
   "source": [
    "my_tuple = (2, 3, 5)\n",
    "x, y, z = my_tuple\n"
   ]
  },
  {
   "cell_type": "code",
   "execution_count": 14,
   "id": "6745a5b0",
   "metadata": {},
   "outputs": [
    {
     "data": {
      "text/plain": [
       "2"
      ]
     },
     "execution_count": 14,
     "metadata": {},
     "output_type": "execute_result"
    }
   ],
   "source": [
    "x"
   ]
  },
  {
   "cell_type": "code",
   "execution_count": 15,
   "id": "0b39c766",
   "metadata": {},
   "outputs": [
    {
     "data": {
      "text/plain": [
       "3"
      ]
     },
     "execution_count": 15,
     "metadata": {},
     "output_type": "execute_result"
    }
   ],
   "source": [
    "y"
   ]
  },
  {
   "cell_type": "code",
   "execution_count": 16,
   "id": "8b99a8b0",
   "metadata": {},
   "outputs": [
    {
     "data": {
      "text/plain": [
       "5"
      ]
     },
     "execution_count": 16,
     "metadata": {},
     "output_type": "execute_result"
    }
   ],
   "source": [
    "z"
   ]
  },
  {
   "cell_type": "markdown",
   "id": "411adb1e",
   "metadata": {},
   "source": [
    "In this example, the values 1, 2, and 3 from my_tuple are unpacked and assigned to the variables x, y, and z, respectively.\n",
    "\n",
    "You can also perform tuple unpacking in a single line without explicitly creating the tuple:"
   ]
  },
  {
   "cell_type": "code",
   "execution_count": 18,
   "id": "28ec4ec8",
   "metadata": {},
   "outputs": [
    {
     "data": {
      "text/plain": [
       "1"
      ]
     },
     "execution_count": 18,
     "metadata": {},
     "output_type": "execute_result"
    }
   ],
   "source": [
    "a"
   ]
  },
  {
   "cell_type": "markdown",
   "id": "25764720",
   "metadata": {},
   "source": [
    "Tuple unpacking is particularly useful when working with functions that return multiple values. You can directly unpack the returned tuple into separate variables for further processing:"
   ]
  },
  {
   "cell_type": "code",
   "execution_count": 19,
   "id": "e3003989",
   "metadata": {},
   "outputs": [],
   "source": [
    "def get_coordinates():\n",
    "    x = 10\n",
    "    y = 20\n",
    "    z = 30\n",
    "    return x, y, z\n",
    "\n",
    "x_coord, y_coord, z_coord = get_coordinates()\n"
   ]
  },
  {
   "cell_type": "markdown",
   "id": "a7893be0",
   "metadata": {},
   "source": [
    "In this example, the function get_coordinates() returns a tuple containing x, y, and z values. By unpacking the returned tuple, we assign the values to x_coord, y_coord, and z_coord respectively.\n",
    "\n",
    "Tuple packing and unpacking provide a convenient way to work with multiple values simultaneously, improving code readability and reducing the need for intermediate variables.\n",
    "\n",
    "It's important to note that the number of variables used for unpacking must match the number of elements in the tuple; otherwise, a ValueError will be raised. Similarly, if you have more variables than elements in the tuple, or vice versa, you'll encounter an error.\n",
    "\n",
    "\n",
    "\n",
    "\n"
   ]
  },
  {
   "cell_type": "code",
   "execution_count": 20,
   "id": "3ab8f4e5",
   "metadata": {},
   "outputs": [
    {
     "data": {
      "text/plain": [
       "(10, 20, 30)"
      ]
     },
     "execution_count": 20,
     "metadata": {},
     "output_type": "execute_result"
    }
   ],
   "source": [
    "get_coordinates()"
   ]
  }
 ],
 "metadata": {
  "kernelspec": {
   "display_name": "Python 3 (ipykernel)",
   "language": "python",
   "name": "python3"
  },
  "language_info": {
   "codemirror_mode": {
    "name": "ipython",
    "version": 3
   },
   "file_extension": ".py",
   "mimetype": "text/x-python",
   "name": "python",
   "nbconvert_exporter": "python",
   "pygments_lexer": "ipython3",
   "version": "3.9.13"
  },
  "toc": {
   "base_numbering": 1,
   "nav_menu": {},
   "number_sections": true,
   "sideBar": true,
   "skip_h1_title": true,
   "title_cell": "Table of Contents",
   "title_sidebar": "Contents",
   "toc_cell": false,
   "toc_position": {},
   "toc_section_display": true,
   "toc_window_display": false
  }
 },
 "nbformat": 4,
 "nbformat_minor": 5
}
