{
 "cells": [
  {
   "cell_type": "code",
   "execution_count": null,
   "id": "7c8a715b",
   "metadata": {},
   "outputs": [],
   "source": []
  },
  {
   "cell_type": "code",
   "execution_count": 1,
   "id": "d8afc997",
   "metadata": {},
   "outputs": [
    {
     "ename": "SyntaxError",
     "evalue": "cannot assign to literal (2331056565.py, line 8)",
     "output_type": "error",
     "traceback": [
      "\u001b[1;36m  File \u001b[1;32m\"C:\\Users\\ronan\\AppData\\Local\\Temp\\ipykernel_14656\\2331056565.py\"\u001b[1;36m, line \u001b[1;32m8\u001b[0m\n\u001b[1;33m    a=1, b=2, c=3\u001b[0m\n\u001b[1;37m      ^\u001b[0m\n\u001b[1;31mSyntaxError\u001b[0m\u001b[1;31m:\u001b[0m cannot assign to literal\n"
     ]
    }
   ],
   "source": [
    "def my_func(a, b, c):\n",
    "    print(\"a={0}, b={1}, c={2}\".format(a, b, c))\n",
    "\n",
    "my_func(1, 2, 3)\n",
    "my_func(2, 1, 3)\n",
    "\n",
    "# ------------- OUTPUT --------------- #\n",
    "a=1, b=2, c=3\n",
    "a=2, b=1, c=3\n"
   ]
  },
  {
   "cell_type": "code",
   "execution_count": 3,
   "id": "89d8e1ee",
   "metadata": {},
   "outputs": [],
   "source": [
    "def my_math(a, b):\n",
    "    print(\"sum={sum}, product={product}\".format(sum=a+b, product=a*b))\n"
   ]
  },
  {
   "cell_type": "code",
   "execution_count": 4,
   "id": "ad38a80b",
   "metadata": {},
   "outputs": [
    {
     "name": "stdout",
     "output_type": "stream",
     "text": [
      "sum=15, product=56\n"
     ]
    }
   ],
   "source": [
    "my_math(7,8)"
   ]
  },
  {
   "cell_type": "markdown",
   "id": "48c13a92",
   "metadata": {},
   "source": [
    "In this updated code, I've fixed the format string by using the correct syntax for variable substitution. The format() method is used to substitute the values of sum and product into the string. By specifying the variable names inside the curly braces and providing their corresponding values as keyword arguments to the format() method, we can ensure that the values are correctly inserted into the string."
   ]
  },
  {
   "cell_type": "code",
   "execution_count": 5,
   "id": "5e63fa12",
   "metadata": {},
   "outputs": [],
   "source": [
    "def my_default(a=1, b=7):\n",
    "    print(\"sum={sum}, product={product}\".format(sum=a+b, product=a*b))"
   ]
  },
  {
   "cell_type": "code",
   "execution_count": 6,
   "id": "03c828d5",
   "metadata": {},
   "outputs": [
    {
     "name": "stdout",
     "output_type": "stream",
     "text": [
      "sum=23, product=132\n"
     ]
    }
   ],
   "source": [
    "my_math(11,12)"
   ]
  },
  {
   "cell_type": "code",
   "execution_count": 7,
   "id": "48576d3f",
   "metadata": {},
   "outputs": [
    {
     "name": "stdout",
     "output_type": "stream",
     "text": [
      "sum=8, product=7\n"
     ]
    }
   ],
   "source": [
    "my_default()"
   ]
  },
  {
   "cell_type": "code",
   "execution_count": 9,
   "id": "114ca891",
   "metadata": {},
   "outputs": [
    {
     "name": "stdout",
     "output_type": "stream",
     "text": [
      "sum=12, product=27\n"
     ]
    }
   ],
   "source": [
    "my_default(3,9)"
   ]
  },
  {
   "cell_type": "code",
   "execution_count": null,
   "id": "d0cc8d6b",
   "metadata": {},
   "outputs": [],
   "source": []
  }
 ],
 "metadata": {
  "kernelspec": {
   "display_name": "Python 3 (ipykernel)",
   "language": "python",
   "name": "python3"
  },
  "language_info": {
   "codemirror_mode": {
    "name": "ipython",
    "version": 3
   },
   "file_extension": ".py",
   "mimetype": "text/x-python",
   "name": "python",
   "nbconvert_exporter": "python",
   "pygments_lexer": "ipython3",
   "version": "3.9.13"
  }
 },
 "nbformat": 4,
 "nbformat_minor": 5
}
