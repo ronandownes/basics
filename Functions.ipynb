{
 "cells": [
  {
   "cell_type": "markdown",
   "id": "c03fb78d",
   "metadata": {},
   "source": [
    "  https://neuronize.dev/quick-python-primer-master-the-basics-in-20-minutes"
   ]
  },
  {
   "cell_type": "code",
   "execution_count": null,
   "id": "fbfa6864",
   "metadata": {},
   "outputs": [],
   "source": [
    "```python\n",
    "def greet(name):\n",
    "    print(\"Hello, \" + name + \"!\")\n",
    "\n",
    "greet(\"Alice\")\n",
    "```\n",
    "\n",
    "This example defines a function called `greet` that takes a parameter `name`. When the function is called with an argument, it prints a greeting message with the provided name.\n",
    "\n",
    "In this case, when `greet(\"Alice\")` is called, the function will print \"Hello, Alice!\" to the console.\n",
    "\n",
    "Functions can have multiple parameters, and they can also return values using the `return` statement. Here's an example:"
   ]
  },
  {
   "cell_type": "code",
   "execution_count": null,
   "id": "01b32c64",
   "metadata": {},
   "outputs": [],
   "source": [
    "```python"
   ]
  },
  {
   "cell_type": "code",
   "execution_count": 2,
   "id": "c65a5166",
   "metadata": {},
   "outputs": [
    {
     "name": "stdout",
     "output_type": "stream",
     "text": [
      "1016\n"
     ]
    }
   ],
   "source": [
    "def add_numbers(a, b):\n",
    "    return a + b\n",
    "\n",
    "result = add_numbers(234,782)\n",
    "print(result)  # Output: 7"
   ]
  },
  {
   "cell_type": "code",
   "execution_count": null,
   "id": "798a46a4",
   "metadata": {},
   "outputs": [],
   "source": [
    "```"
   ]
  },
  {
   "cell_type": "code",
   "execution_count": null,
   "id": "bd2bd63f",
   "metadata": {},
   "outputs": [],
   "source": [
    "This example defines a function called `add_numbers` that takes two parameters `a` and `b`. The function returns the sum of `a` and `b`. When `add_numbers(3, 4)` is called, it returns the value `7`, which is then assigned to the variable `result` and printed to the console.\n",
    "\n",
    "Functions provide a way to encapsulate reusable code and make programs more modular and easier to understand. They allow you to break down complex tasks into smaller, manageable pieces of code."
   ]
  },
  {
   "cell_type": "code",
   "execution_count": 2,
   "id": "f905a440",
   "metadata": {},
   "outputs": [
    {
     "name": "stdout",
     "output_type": "stream",
     "text": [
      "a=1, b=2, c=3\n",
      "a=2, b=1, c=3\n"
     ]
    }
   ],
   "source": [
    "def my_func(a, b, c):\n",
    "    print(\"a={0}, b={1}, c={2}\".format(a, b, c))\n",
    "\n",
    "my_func(1, 2, 3)\n",
    "my_func(2, 1, 3)\n",
    "\n"
   ]
  },
  {
   "cell_type": "code",
   "execution_count": 3,
   "id": "873ff0aa",
   "metadata": {},
   "outputs": [
    {
     "name": "stdout",
     "output_type": "stream",
     "text": [
      "a=7, b=8, c=9\n"
     ]
    }
   ],
   "source": [
    "my_func(7,8,9)"
   ]
  },
  {
   "cell_type": "code",
   "execution_count": 4,
   "id": "a753ebf2",
   "metadata": {},
   "outputs": [],
   "source": [
    "def my_math(a, b):\n",
    "    print(\"sum={a+b}, product={ab}\".format(a, b))"
   ]
  },
  {
   "cell_type": "code",
   "execution_count": 7,
   "id": "4404c243",
   "metadata": {},
   "outputs": [
    {
     "ename": "NameError",
     "evalue": "name 'c' is not defined",
     "output_type": "error",
     "traceback": [
      "\u001b[1;31m---------------------------------------------------------------------------\u001b[0m",
      "\u001b[1;31mNameError\u001b[0m                                 Traceback (most recent call last)",
      "\u001b[1;32m~\\AppData\\Local\\Temp\\ipykernel_14716\\3094822780.py\u001b[0m in \u001b[0;36m<module>\u001b[1;34m\u001b[0m\n\u001b[1;32m----> 1\u001b[1;33m \u001b[0mmy_math\u001b[0m\u001b[1;33m(\u001b[0m\u001b[1;36m7\u001b[0m\u001b[1;33m,\u001b[0m\u001b[1;36m8\u001b[0m\u001b[1;33m)\u001b[0m\u001b[1;33m\u001b[0m\u001b[1;33m\u001b[0m\u001b[0m\n\u001b[0m",
      "\u001b[1;32m~\\AppData\\Local\\Temp\\ipykernel_14716\\1257994301.py\u001b[0m in \u001b[0;36mmy_math\u001b[1;34m(a, b)\u001b[0m\n\u001b[0;32m      1\u001b[0m \u001b[1;32mdef\u001b[0m \u001b[0mmy_math\u001b[0m\u001b[1;33m(\u001b[0m\u001b[0ma\u001b[0m\u001b[1;33m,\u001b[0m \u001b[0mb\u001b[0m\u001b[1;33m)\u001b[0m\u001b[1;33m:\u001b[0m\u001b[1;33m\u001b[0m\u001b[1;33m\u001b[0m\u001b[0m\n\u001b[1;32m----> 2\u001b[1;33m     \u001b[0mprint\u001b[0m\u001b[1;33m(\u001b[0m\u001b[1;34m\"sum={a+b}, product={ab}\"\u001b[0m\u001b[1;33m.\u001b[0m\u001b[0mformat\u001b[0m\u001b[1;33m(\u001b[0m\u001b[0ma\u001b[0m\u001b[1;33m,\u001b[0m \u001b[0mb\u001b[0m\u001b[1;33m,\u001b[0m \u001b[0mc\u001b[0m\u001b[1;33m)\u001b[0m\u001b[1;33m)\u001b[0m\u001b[1;33m\u001b[0m\u001b[1;33m\u001b[0m\u001b[0m\n\u001b[0m",
      "\u001b[1;31mNameError\u001b[0m: name 'c' is not defined"
     ]
    }
   ],
   "source": [
    "my_math(7,8)"
   ]
  },
  {
   "cell_type": "code",
   "execution_count": null,
   "id": "851577bd",
   "metadata": {},
   "outputs": [],
   "source": []
  }
 ],
 "metadata": {
  "kernelspec": {
   "display_name": "Python 3 (ipykernel)",
   "language": "python",
   "name": "python3"
  },
  "language_info": {
   "codemirror_mode": {
    "name": "ipython",
    "version": 3
   },
   "file_extension": ".py",
   "mimetype": "text/x-python",
   "name": "python",
   "nbconvert_exporter": "python",
   "pygments_lexer": "ipython3",
   "version": "3.9.13"
  },
  "toc": {
   "base_numbering": 1,
   "nav_menu": {},
   "number_sections": true,
   "sideBar": true,
   "skip_h1_title": true,
   "title_cell": "Table of Contents",
   "title_sidebar": "Contents",
   "toc_cell": false,
   "toc_position": {},
   "toc_section_display": true,
   "toc_window_display": true
  }
 },
 "nbformat": 4,
 "nbformat_minor": 5
}
