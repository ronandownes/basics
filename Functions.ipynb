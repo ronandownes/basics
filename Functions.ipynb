{
 "cells": [
  {
   "cell_type": "markdown",
   "id": "c03fb78d",
   "metadata": {},
   "source": [
    "  https://neuronize.dev/quick-python-primer-master-the-basics-in-20-minutes"
   ]
  },
  {
   "cell_type": "code",
   "execution_count": null,
   "id": "fbfa6864",
   "metadata": {},
   "outputs": [],
   "source": [
    "```python\n",
    "def greet(name):\n",
    "    print(\"Hello, \" + name + \"!\")\n",
    "\n",
    "greet(\"Alice\")\n",
    "```\n",
    "\n",
    "This example defines a function called `greet` that takes a parameter `name`. When the function is called with an argument, it prints a greeting message with the provided name.\n",
    "\n",
    "In this case, when `greet(\"Alice\")` is called, the function will print \"Hello, Alice!\" to the console.\n",
    "\n",
    "Functions can have multiple parameters, and they can also return values using the `return` statement. Here's an example:"
   ]
  },
  {
   "cell_type": "code",
   "execution_count": null,
   "id": "01b32c64",
   "metadata": {},
   "outputs": [],
   "source": [
    "```python"
   ]
  },
  {
   "cell_type": "code",
   "execution_count": 2,
   "id": "c65a5166",
   "metadata": {},
   "outputs": [
    {
     "name": "stdout",
     "output_type": "stream",
     "text": [
      "1016\n"
     ]
    }
   ],
   "source": [
    "def add_numbers(a, b):\n",
    "    return a + b\n",
    "\n",
    "result = add_numbers(234,782)\n",
    "print(result)  # Output: 7"
   ]
  },
  {
   "cell_type": "code",
   "execution_count": null,
   "id": "798a46a4",
   "metadata": {},
   "outputs": [],
   "source": [
    "```"
   ]
  },
  {
   "cell_type": "code",
   "execution_count": null,
   "id": "bd2bd63f",
   "metadata": {},
   "outputs": [],
   "source": [
    "This example defines a function called `add_numbers` that takes two parameters `a` and `b`. The function returns the sum of `a` and `b`. When `add_numbers(3, 4)` is called, it returns the value `7`, which is then assigned to the variable `result` and printed to the console.\n",
    "\n",
    "Functions provide a way to encapsulate reusable code and make programs more modular and easier to understand. They allow you to break down complex tasks into smaller, manageable pieces of code."
   ]
  },
  {
   "cell_type": "code",
   "execution_count": null,
   "id": "f905a440",
   "metadata": {},
   "outputs": [],
   "source": []
  }
 ],
 "metadata": {
  "kernelspec": {
   "display_name": "Python 3 (ipykernel)",
   "language": "python",
   "name": "python3"
  },
  "language_info": {
   "codemirror_mode": {
    "name": "ipython",
    "version": 3
   },
   "file_extension": ".py",
   "mimetype": "text/x-python",
   "name": "python",
   "nbconvert_exporter": "python",
   "pygments_lexer": "ipython3",
   "version": "3.9.13"
  },
  "toc": {
   "base_numbering": 1,
   "nav_menu": {},
   "number_sections": true,
   "sideBar": true,
   "skip_h1_title": true,
   "title_cell": "Table of Contents",
   "title_sidebar": "Contents",
   "toc_cell": false,
   "toc_position": {},
   "toc_section_display": true,
   "toc_window_display": true
  }
 },
 "nbformat": 4,
 "nbformat_minor": 5
}
