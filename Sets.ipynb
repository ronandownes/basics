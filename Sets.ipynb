{
 "cells": [
  {
   "cell_type": "code",
   "execution_count": 5,
   "id": "d03fa22c",
   "metadata": {},
   "outputs": [
    {
     "name": "stdout",
     "output_type": "stream",
     "text": [
      "{1, 3, 5, 7, 9, 11, 13, 15, 17, 19}\n"
     ]
    }
   ],
   "source": [
    "set1 = {1, 2, 3, 4, 4,4,4,4, 5}\n",
    "primes={2,3,5,7,11,13,17,19}\n",
    "odd_list=[1,3,5,7,9,11,13,15,17,19]\n",
    "odd_set=set(odd_list)\n",
    "print(odd_set)"
   ]
  },
  {
   "cell_type": "code",
   "execution_count": 2,
   "id": "2e968926",
   "metadata": {},
   "outputs": [
    {
     "name": "stdout",
     "output_type": "stream",
     "text": [
      "{1, 2, 3, 4, 5}\n"
     ]
    }
   ],
   "source": [
    "my_list = [1, 2, 3, 4, 4, 5]\n",
    "my_set = set(my_list)\n",
    "print(my_set)  # prints {1, 2, 3, 4, 5}\n"
   ]
  },
  {
   "cell_type": "code",
   "execution_count": 12,
   "id": "bf91c956",
   "metadata": {},
   "outputs": [
    {
     "name": "stdout",
     "output_type": "stream",
     "text": [
      "union_set =  {1, 2, 3, 5, 7, 9, 11, 13, 17}\n"
     ]
    }
   ],
   "source": [
    "odd_set = {1, 3, 5, 7, 9,11,13}\n",
    "prime_set = {2, 3, 5, 7, 11,13,17}\n",
    "union_set = odd_set.union(prime_set)\n",
    "intersection_set= odd_set.intersection(prime_set)\n",
    "print('union_set = ',union_set)\n",
    "replaceprint('union_set = ',union_set)"
   ]
  },
  {
   "cell_type": "markdown",
   "id": "43fd5b3d",
   "metadata": {},
   "source": [
    "Certainly! Let's explore everything you\n",
    "need to know about Python sets and see some example code along the way.\n",
    "\n",
    "1. Creating Sets:\n",
    "   Sets are unordered collections of unique elements. You can create a set in Python using curly braces `{}` or the `set()` function. Here's an example:\n",
    "   \n",
    "   ```python"
   ]
  },
  {
   "cell_type": "code",
   "execution_count": 13,
   "id": "028ef0c7",
   "metadata": {},
   "outputs": [
    {
     "name": "stdout",
     "output_type": "stream",
     "text": [
      "{'orange', 'banana', 'apple'}\n",
      "{'green', 'blue', 'red'}\n"
     ]
    }
   ],
   "source": [
    "   # Creating a set using curly braces\n",
    "   fruits = {'apple', 'banana', 'orange'}\n",
    "   print(fruits)  # Output: {'apple', 'banana', 'orange'}\n",
    "   \n",
    "   # Creating a set using the set() function\n",
    "   colors = set(['red', 'green', 'blue'])\n",
    "   print(colors)  # Output: {'red', 'green', 'blue'}"
   ]
  },
  {
   "cell_type": "markdown",
   "id": "e233a9d8",
   "metadata": {},
   "source": [
    "2. Adding Elements to a Set:\n",
    "   You can add elements to a set using the `add()` method. Here's an example:\n",
    "   "
   ]
  },
  {
   "cell_type": "code",
   "execution_count": null,
   "id": "ec46020c",
   "metadata": {},
   "outputs": [],
   "source": [
    "   fruits = {'apple', 'banana'}\n",
    "   fruits.add('orange')\n",
    "   print(fruits)  # Output: {'apple', 'banana', 'orange'}"
   ]
  },
  {
   "cell_type": "markdown",
   "id": "fc115580",
   "metadata": {},
   "source": [
    "3. Removing Elements from a Set:\n",
    "   To remove elements from a set, you can use the `remove()` method. If the element doesn't exist in the set, it will raise a `KeyError`. Alternatively, you can use the `discard()` method, which won't raise an error if the element doesn't exist. Here's an example:\n",
    "   \n",
    "   ```python"
   ]
  },
  {
   "cell_type": "code",
   "execution_count": 14,
   "id": "fbcf36fc",
   "metadata": {},
   "outputs": [
    {
     "name": "stdout",
     "output_type": "stream",
     "text": [
      "{'blue', 'red'}\n"
     ]
    }
   ],
   "source": [
    "   colors = {'red', 'green', 'blue'}\n",
    "   colors.remove('green')\n",
    "   print(colors)  # Output: {'red', 'blue'}\n",
    "   \n",
    "   colors.discard('yellow')  # No error raised"
   ]
  },
  {
   "cell_type": "code",
   "execution_count": null,
   "id": "de068941",
   "metadata": {},
   "outputs": [],
   "source": [
    "4. Set Operations:\n",
    "   Sets support various operations like union, intersection, difference, and more. These operations can be performed using methods or operators. Here are some examples:\n",
    "   \n",
    "   ```python\n",
    "   set1 = {1, 2, 3}\n",
    "   set2 = {3, 4, 5}\n",
    "   \n",
    "   # Union\n",
    "   union = set1.union(set2)\n",
    "   print(union)  # Output: {1, 2, 3, 4, 5}\n",
    "   \n",
    "   # Intersection\n",
    "   intersection = set1.intersection(set2)\n",
    "   print(intersection)  # Output: {3}\n",
    "   \n",
    "   # Difference\n",
    "   difference = set1.difference(set2)\n",
    "   print(difference)  # Output: {1, 2}\n",
    "   \n",
    "   # Symmetric Difference\n",
    "   symmetric_difference = set1.symmetric_difference(set2)\n",
    "   print(symmetric_difference)  # Output: {1, 2, 4, 5}\n",
    "   ```\n",
    "\n",
    "5. Set Membership and Length:\n",
    "   You can check if an element is present in a set using the `in` keyword. Additionally, you can find the length of a set using the `len()` function. Here's an example:\n",
    "   \n",
    "   ```python\n",
    "   fruits = {'apple', 'banana', 'orange'}\n",
    "   \n",
    "   print('apple' in fruits)  # Output: True\n",
    "   print('grape' in fruits)  # Output: False\n",
    "   \n",
    "   print(len(fruits))  # Output: 3\n",
    "   ```\n",
    "\n",
    "6. Iterating over a Set:\n",
    "   You can iterate over the elements of a set using a for loop. However, since sets are unordered, the order of iteration is not guaranteed. Here's an example:\n",
    "   \n",
    "   ```python\n",
    "   colors = {'red', 'green', 'blue'}\n",
    "   \n",
    "   for color in colors:\n",
    "       print(color)\n",
    "   ```\n",
    "   \n",
    "   Output (order may vary): \n",
    "   ```\n",
    "   green\n",
    "   blue\n",
    "   red\n",
    "   ```\n",
    "\n",
    "Sets in Python are useful for storing unique elements, performing set operations"
   ]
  }
 ],
 "metadata": {
  "kernelspec": {
   "display_name": "Python 3 (ipykernel)",
   "language": "python",
   "name": "python3"
  },
  "language_info": {
   "codemirror_mode": {
    "name": "ipython",
    "version": 3
   },
   "file_extension": ".py",
   "mimetype": "text/x-python",
   "name": "python",
   "nbconvert_exporter": "python",
   "pygments_lexer": "ipython3",
   "version": "3.9.13"
  },
  "toc": {
   "base_numbering": 1,
   "nav_menu": {},
   "number_sections": true,
   "sideBar": true,
   "skip_h1_title": true,
   "title_cell": "Table of Contents",
   "title_sidebar": "Contents",
   "toc_cell": false,
   "toc_position": {},
   "toc_section_display": true,
   "toc_window_display": true
  }
 },
 "nbformat": 4,
 "nbformat_minor": 5
}
