{
 "cells": [
  {
   "cell_type": "code",
   "execution_count": null,
   "id": "6836651a",
   "metadata": {},
   "outputs": [],
   "source": [
    "from PIL import Image\n",
    "\n",
    "def resize_jpeg(input_path, output_path, max_width, max_height):\n",
    "    # Open the image\n",
    "    image = Image.open(input_path)\n",
    "\n",
    "    # Calculate the aspect ratio\n",
    "    aspect_ratio = image.width / image.height\n",
    "\n",
    "    # Calculate the new dimensions while preserving aspect ratio\n",
    "    if aspect_ratio > 1:\n",
    "        new_width = min(image.width, max_width)\n",
    "        new_height = int(new_width / aspect_ratio)\n",
    "    else:\n",
    "        new_height = min(image.height, max_height)\n",
    "        new_width = int(new_height * aspect_ratio)\n",
    "\n",
    "    # Resize the image\n",
    "    resized_image = image.resize((new_width, new_height), Image.ANTIALIAS)\n",
    "\n",
    "    # Save the resized image as a JPEG\n",
    "    resized_image.save(output_path, 'JPEG')\n",
    "\n",
    "# Example usage\n",
    "input_file = 'input.jpg'\n",
    "output_file = 'output.jpg'\n",
    "max_width = 800\n",
    "max_height = 600\n",
    "\n",
    "resize_jpeg(input_file, output_file, max_width, max_height)\n"
   ]
  }
 ],
 "metadata": {
  "kernelspec": {
   "display_name": "Python 3 (ipykernel)",
   "language": "python",
   "name": "python3"
  },
  "language_info": {
   "codemirror_mode": {
    "name": "ipython",
    "version": 3
   },
   "file_extension": ".py",
   "mimetype": "text/x-python",
   "name": "python",
   "nbconvert_exporter": "python",
   "pygments_lexer": "ipython3",
   "version": "3.9.13"
  },
  "toc": {
   "base_numbering": 1,
   "nav_menu": {},
   "number_sections": true,
   "sideBar": true,
   "skip_h1_title": true,
   "title_cell": "Table of Contents",
   "title_sidebar": "Contents",
   "toc_cell": false,
   "toc_position": {},
   "toc_section_display": true,
   "toc_window_display": true
  }
 },
 "nbformat": 4,
 "nbformat_minor": 5
}
