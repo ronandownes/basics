{
 "cells": [
  {
   "cell_type": "markdown",
   "id": "6bfa5721",
   "metadata": {},
   "source": [
    "\n",
    "\n",
    "<a href=\"https://chat.openai.com/share/172bb303-c87a-4db3-b355-27526864b694\">Lists GPT Chat</a>\n",
    "\n"
   ]
  },
  {
   "cell_type": "code",
   "execution_count": 19,
   "id": "4eb3c7f4",
   "metadata": {},
   "outputs": [
    {
     "name": "stdout",
     "output_type": "stream",
     "text": [
      "{1, 2, 3, 4, 5}\n",
      "[1, 2, 3, 4, 5, 5, 5, 5]\n",
      "{'e', 'd', 'x', ' ', 'w', 'a', 'i', 't', 'r', 's', 'h', 'm', 'y', 'o'}\n"
     ]
    }
   ],
   "source": [
    "\n",
    "number_list = [1, 2, 3, 4, 5, 5, 5, 5]\n",
    "my_set = set(my_list)\n",
    "text_set=set(\"my text what order is this is\")\n",
    "print(my_set)\n",
    "print(my_list)\n",
    "print(text_set)"
   ]
  },
  {
   "cell_type": "code",
   "execution_count": 2,
   "id": "fa26cd83",
   "metadata": {},
   "outputs": [
    {
     "data": {
      "text/plain": [
       "['Hello,', 'how', 'are', 'you', 'today?']"
      ]
     },
     "execution_count": 2,
     "metadata": {},
     "output_type": "execute_result"
    }
   ],
   "source": [
    "text = \"Hello, how are you today?\"\n",
    "text.split()  \n",
    "\n"
   ]
  },
  {
   "cell_type": "markdown",
   "id": "44cb4bbb",
   "metadata": {},
   "source": [
    "Lists can contain elements of different types, including numbers, strings, booleans, and even other lists.\n",
    "\n",
    "Accessing List Elements:\n",
    "List elements can be accessed using indexing. Indexing starts from 0, where 0 represents the first element."
   ]
  },
  {
   "cell_type": "code",
   "execution_count": 2,
   "id": "0d55e9d9",
   "metadata": {},
   "outputs": [
    {
     "name": "stdout",
     "output_type": "stream",
     "text": [
      "1\n",
      "3\n"
     ]
    }
   ],
   "source": [
    "my_list = [1, 2, 3, 4, 5]\n",
    "print(my_list[0])  # Output: 1\n",
    "print(my_list[2])  # Output: 3\n"
   ]
  },
  {
   "cell_type": "markdown",
   "id": "0cbfa760",
   "metadata": {},
   "source": [
    "Negative indexing can be used to access elements from the end of the list."
   ]
  },
  {
   "cell_type": "code",
   "execution_count": null,
   "id": "fb6a6c41",
   "metadata": {},
   "outputs": [],
   "source": [
    "print(my_list[-1])  # Output: 5 (last element)\n",
    "print(my_list[-2])  # Output: 4 (second to last element)\n"
   ]
  },
  {
   "cell_type": "markdown",
   "id": "dc18f8c5",
   "metadata": {},
   "source": [
    "List Slicing:\n",
    "You can extract a portion of a list using slicing. Slicing allows you to specify a range of indices to extract a sublist."
   ]
  },
  {
   "cell_type": "code",
   "execution_count": null,
   "id": "62df13d9",
   "metadata": {},
   "outputs": [],
   "source": [
    "my_list = [1, 2, 3, 4, 5]\n",
    "print(my_list[1:4])  # Output: [2, 3, 4]\n",
    "print(my_list[:3])   # Output: [1, 2, 3] (from the beginning to index 2)\n",
    "print(my_list[2:])   # Output: [3, 4, 5] (from index 2 to the end)\n"
   ]
  },
  {
   "cell_type": "markdown",
   "id": "d709b16e",
   "metadata": {},
   "source": [
    "Modifying Lists:\n",
    "Lists are mutable, meaning you can change their elements. You can assign a new value to a specific index or modify a range of elements using slicing."
   ]
  },
  {
   "cell_type": "code",
   "execution_count": null,
   "id": "0aa4ad88",
   "metadata": {},
   "outputs": [],
   "source": [
    "my_list = [1, 2, 3, 4, 5]\n",
    "my_list[2] = 10  # Modifying an element\n",
    "print(my_list)   # Output: [1, 2, 10, 4, 5]\n",
    "\n",
    "my_list[1:3] = [20, 30]  # Modifying a range of elements\n",
    "print(my_list)           # Output: [1, 20, 30, 4, 5]\n"
   ]
  },
  {
   "cell_type": "markdown",
   "id": "f48fe59c",
   "metadata": {},
   "source": [
    "Common List Operations:\n",
    "\n",
    "Adding elements: Use the append() method to add an element to the end of the list."
   ]
  },
  {
   "cell_type": "code",
   "execution_count": null,
   "id": "5b211d8a",
   "metadata": {},
   "outputs": [],
   "source": [
    "my_list = [1, 2, 3]\n",
    "my_list.append(4)\n",
    "print(my_list)  # Output: [1, 2, 3, 4]\n"
   ]
  },
  {
   "cell_type": "markdown",
   "id": "82e9eac7",
   "metadata": {},
   "source": []
  },
  {
   "cell_type": "code",
   "execution_count": null,
   "id": "fb35dba7",
   "metadata": {},
   "outputs": [],
   "source": []
  },
  {
   "cell_type": "markdown",
   "id": "a652302a",
   "metadata": {},
   "source": []
  },
  {
   "cell_type": "code",
   "execution_count": null,
   "id": "5f2a39be",
   "metadata": {},
   "outputs": [],
   "source": []
  }
 ],
 "metadata": {
  "kernelspec": {
   "display_name": "Python 3 (ipykernel)",
   "language": "python",
   "name": "python3"
  },
  "language_info": {
   "codemirror_mode": {
    "name": "ipython",
    "version": 3
   },
   "file_extension": ".py",
   "mimetype": "text/x-python",
   "name": "python",
   "nbconvert_exporter": "python",
   "pygments_lexer": "ipython3",
   "version": "3.9.13"
  },
  "toc": {
   "base_numbering": 1,
   "nav_menu": {},
   "number_sections": true,
   "sideBar": true,
   "skip_h1_title": true,
   "title_cell": "Table of Contents",
   "title_sidebar": "Contents",
   "toc_cell": false,
   "toc_position": {},
   "toc_section_display": true,
   "toc_window_display": true
  }
 },
 "nbformat": 4,
 "nbformat_minor": 5
}
