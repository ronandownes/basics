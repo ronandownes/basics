{
 "cells": [
  {
   "cell_type": "markdown",
   "id": "1941ec54",
   "metadata": {},
   "source": [
    "\n",
    "NumPy is a powerful library in Python for numerical computing. It provides an array object that is efficient for handling large datasets and offers a wide range of mathematical functions for array manipulation, linear algebra, Fourier transforms, random number generation, and more. Here's a brief overview of some key features and how to use them:\n",
    "\n",
    "Importing NumPy:\n",
    "To start using NumPy, you need to import the library:"
   ]
  },
  {
   "cell_type": "code",
   "execution_count": 2,
   "id": "99ffcc9b",
   "metadata": {},
   "outputs": [],
   "source": [
    "import numpy as np\n"
   ]
  },
  {
   "cell_type": "markdown",
   "id": "0cc396ba",
   "metadata": {},
   "source": [
    "Creating NumPy Arrays:\n",
    "NumPy arrays, also known as ndarrays, are the primary data structure in NumPy. You can create arrays using various methods:"
   ]
  },
  {
   "cell_type": "code",
   "execution_count": 27,
   "id": "050ddb4c",
   "metadata": {},
   "outputs": [
    {
     "data": {
      "text/plain": [
       "array([[0., 0., 0., 0.],\n",
       "       [0., 0., 0., 0.],\n",
       "       [0., 0., 0., 0.]])"
      ]
     },
     "execution_count": 27,
     "metadata": {},
     "output_type": "execute_result"
    }
   ],
   "source": [
    "# From a list\n",
    "arr1 = np.array([1, 2, 3, 4, 5])\n",
    "\n",
    "# From a nested list (2D array)\n",
    "arr2 = np.array([[1, 2, 3], [4, 5, 6]])\n",
    "\n",
    "# Using built-in functions\n",
    "arr3 = np.zeros((3, 4))  # 3x4 array filled with zeros\n",
    "arr4 = np.ones((2, 2))   # 2x2 array filled with ones\n",
    "arr5 = np.arange(11, 38, 7)  # Array of numbers from 0 to 10 (exclusive) with step 2\n",
    "arr3"
   ]
  },
  {
   "cell_type": "code",
   "execution_count": 28,
   "id": "f6a032fc",
   "metadata": {
    "scrolled": true
   },
   "outputs": [
    {
     "data": {
      "text/plain": [
       "array([[1., 1.],\n",
       "       [1., 1.]])"
      ]
     },
     "execution_count": 28,
     "metadata": {},
     "output_type": "execute_result"
    }
   ],
   "source": [
    "arr4"
   ]
  },
  {
   "cell_type": "code",
   "execution_count": 29,
   "id": "3a9b902f",
   "metadata": {},
   "outputs": [
    {
     "data": {
      "text/plain": [
       "array([11, 18, 25, 32])"
      ]
     },
     "execution_count": 29,
     "metadata": {},
     "output_type": "execute_result"
    }
   ],
   "source": [
    "arr5"
   ]
  },
  {
   "cell_type": "markdown",
   "id": "ccbd0d15",
   "metadata": {},
   "source": [
    "Array Operations:\n",
    "NumPy arrays allow for efficient element-wise operations and broadcasting:"
   ]
  },
  {
   "cell_type": "code",
   "execution_count": 4,
   "id": "ce693075",
   "metadata": {},
   "outputs": [],
   "source": [
    "a = np.array([1, 2, 3])\n",
    "b = np.array([4, 5, 6])\n",
    "\n",
    "# Element-wise operations\n",
    "c = a + b   # [5, 7, 9]\n",
    "d = a * b   # [4, 10, 18]\n",
    "\n",
    "# Broadcasting\n",
    "e = a + 1   # [2, 3, 4]\n",
    "f = a * 2   # [2, 4, 6]\n"
   ]
  },
  {
   "cell_type": "markdown",
   "id": "a8c34945",
   "metadata": {},
   "source": [
    "Array Indexing and Slicing:\n",
    "You can access and manipulate array elements using indexing and slicing:"
   ]
  },
  {
   "cell_type": "code",
   "execution_count": 5,
   "id": "06bf9970",
   "metadata": {},
   "outputs": [
    {
     "name": "stdout",
     "output_type": "stream",
     "text": [
      "1\n",
      "3\n",
      "[2 3 4]\n",
      "[1 2 3]\n",
      "[4 5]\n",
      "6\n",
      "[2 5]\n"
     ]
    }
   ],
   "source": [
    "arr = np.array([1, 2, 3, 4, 5])\n",
    "\n",
    "# Accessing elements\n",
    "print(arr[0])   # 1\n",
    "print(arr[2])   # 3\n",
    "\n",
    "# Slicing\n",
    "print(arr[1:4])   # [2, 3, 4]\n",
    "print(arr[:3])    # [1, 2, 3]\n",
    "print(arr[3:])    # [4, 5]\n",
    "\n",
    "# 2D array indexing\n",
    "arr2d = np.array([[1, 2, 3], [4, 5, 6]])\n",
    "print(arr2d[1, 2])   # 6\n",
    "print(arr2d[:, 1])   # [2, 5] (selects all rows, second column)\n"
   ]
  },
  {
   "cell_type": "markdown",
   "id": "bb2e66ae",
   "metadata": {},
   "source": [
    "Mathematical Functions:\n",
    "NumPy provides a wide range of mathematical functions that can be applied to arrays:"
   ]
  },
  {
   "cell_type": "code",
   "execution_count": 10,
   "id": "b842c1c0",
   "metadata": {},
   "outputs": [
    {
     "name": "stdout",
     "output_type": "stream",
     "text": [
      "-20.5\n",
      "-102.5\n",
      "11.0\n",
      "-121.0\n",
      "50.37062636100528\n",
      "[       nan 0.52359878        nan        nan        nan]\n",
      "[[19 22]\n",
      " [43 50]]\n"
     ]
    },
    {
     "name": "stderr",
     "output_type": "stream",
     "text": [
      "C:\\Users\\ronan\\AppData\\Local\\Temp\\ipykernel_4152\\1362937082.py:11: RuntimeWarning: invalid value encountered in arcsin\n",
      "  print(np.arcsin(arr))        # Sine of each element\n"
     ]
    }
   ],
   "source": [
    "arr = np.array([-121, .5, 3, 4, 11])\n",
    "\n",
    "# Basic functions\n",
    "print(np.mean(arr))       # Mean: 3.0\n",
    "print(np.sum(arr))        # Sum: 15\n",
    "print(np.max(arr))        # Maximum: 5\n",
    "print(np.min(arr))        # Minimum: 1\n",
    "print(np.std(arr))        # Standard deviation: 1.41421356\n",
    "\n",
    "# Trigonometric functions\n",
    "print(np.arcsin(arr))        # Sine of each element\n",
    "\n",
    "# Linear algebra functions\n",
    "a = np.array([[1, 2], [3, 4]])\n",
    "b = np.array([[5, 6], [7, 8]])\n",
    "print(np.dot(a, b))\n"
   ]
  },
  {
   "cell_type": "markdown",
   "id": "1eec1ccd",
   "metadata": {},
   "source": [
    "0.52359878  rads in degrees"
   ]
  },
  {
   "cell_type": "code",
   "execution_count": 11,
   "id": "ca7a30a5",
   "metadata": {},
   "outputs": [
    {
     "name": "stdout",
     "output_type": "stream",
     "text": [
      "30.0000002521989\n"
     ]
    }
   ],
   "source": [
    "\n",
    "radians = 0.52359878\n",
    "degrees = np.degrees(radians)\n",
    "print(degrees)"
   ]
  },
  {
   "cell_type": "markdown",
   "id": "8d910a27",
   "metadata": {},
   "source": []
  },
  {
   "cell_type": "code",
   "execution_count": null,
   "id": "55e71382",
   "metadata": {},
   "outputs": [],
   "source": []
  },
  {
   "cell_type": "code",
   "execution_count": null,
   "id": "ce4eac94",
   "metadata": {},
   "outputs": [],
   "source": []
  },
  {
   "cell_type": "code",
   "execution_count": null,
   "id": "879262f8",
   "metadata": {},
   "outputs": [],
   "source": []
  },
  {
   "cell_type": "code",
   "execution_count": null,
   "id": "89f9591c",
   "metadata": {},
   "outputs": [],
   "source": []
  },
  {
   "cell_type": "code",
   "execution_count": null,
   "id": "5ba606f4",
   "metadata": {},
   "outputs": [],
   "source": []
  },
  {
   "cell_type": "code",
   "execution_count": null,
   "id": "821993b2",
   "metadata": {},
   "outputs": [],
   "source": []
  },
  {
   "cell_type": "code",
   "execution_count": null,
   "id": "7b11f7bd",
   "metadata": {},
   "outputs": [],
   "source": []
  },
  {
   "cell_type": "code",
   "execution_count": null,
   "id": "1978ff84",
   "metadata": {},
   "outputs": [],
   "source": []
  }
 ],
 "metadata": {
  "kernelspec": {
   "display_name": "Python 3 (ipykernel)",
   "language": "python",
   "name": "python3"
  },
  "language_info": {
   "codemirror_mode": {
    "name": "ipython",
    "version": 3
   },
   "file_extension": ".py",
   "mimetype": "text/x-python",
   "name": "python",
   "nbconvert_exporter": "python",
   "pygments_lexer": "ipython3",
   "version": "3.9.13"
  },
  "toc": {
   "base_numbering": 1,
   "nav_menu": {},
   "number_sections": true,
   "sideBar": true,
   "skip_h1_title": true,
   "title_cell": "Table of Contents",
   "title_sidebar": "Contents",
   "toc_cell": false,
   "toc_position": {},
   "toc_section_display": true,
   "toc_window_display": true
  }
 },
 "nbformat": 4,
 "nbformat_minor": 5
}
