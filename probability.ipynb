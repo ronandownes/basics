{
 "cells": [
  {
   "cell_type": "markdown",
   "id": "cfa711a8",
   "metadata": {},
   "source": [
    "Certainly! I can help you with Python code for probability calculations. Python has a built-in module called random that provides functions for generating random numbers, which can be useful for probability calculations. Additionally, there are libraries like numpy and scipy that provide more advanced probability distributions and statistical functions.\n",
    "\n",
    "Here's an example to get you started with basic probability calculations using the random module:\n",
    "\n"
   ]
  },
  {
   "cell_type": "code",
   "execution_count": 24,
   "id": "72a6a9c6",
   "metadata": {},
   "outputs": [
    {
     "name": "stdout",
     "output_type": "stream",
     "text": [
      "Probability of getting a 1: 0.16666666666666666\n",
      "Probability of getting an even outcome is: 0.5\n",
      "Probability of getting heads: 0.5\n",
      "Random number between 0 and 1: 0.9383161296025696\n",
      "Random integer between 1 and 10: 2\n"
     ]
    }
   ],
   "source": [
    "import random\n",
    "\n",
    "# Probability of an event: P(A)\n",
    "def probability(event_outcomes, sample_space):\n",
    "    return len(event_outcomes) / sample_space\n",
    "\n",
    "# Rolling a fair six-sided die\n",
    "sample_space = 6  # Total possible outcomes\n",
    "event_outcomes = [1]  # Event outcomes (e.g., getting a 1)\n",
    "event_even = [2,4,6] \n",
    "p = probability(event_outcomes, sample_space)\n",
    "p_even = probability(event_even, sample_space)\n",
    "print(\"Probability of getting a 1:\", p)\n",
    "print(\"Probability of getting an even outcome is:\", p_even)\n",
    "\n",
    "\n",
    "# Flipping a fair coin\n",
    "sample_space = 2  # Total possible outcomes\n",
    "event_outcomes = ['H']  # Event outcomes (e.g., getting a heads)\n",
    "p = probability(event_outcomes, sample_space)\n",
    "print(\"Probability of getting heads:\", p)\n",
    "\n",
    "# Generating random numbers\n",
    "random_number = random.random()  # Random float between 0 and 1\n",
    "print(\"Random number between 0 and 1:\", random_number)\n",
    "\n",
    "random_integer = random.randint(1, 10)  # Random integer between 1 and 10 (inclusive)\n",
    "print(\"Random integer between 1 and 10:\", random_integer)\n"
   ]
  },
  {
   "cell_type": "code",
   "execution_count": 6,
   "id": "8fc9c05f",
   "metadata": {},
   "outputs": [],
   "source": [
    "import numpy \n",
    "import scipy "
   ]
  },
  {
   "cell_type": "markdown",
   "id": "f4aff629",
   "metadata": {},
   "source": [
    "This code demonstrates how to calculate the probability of an event given a sample space, and it also shows how to generate random numbers using the random module.\n",
    "\n",
    "If you need more advanced probability distributions or statistical functions, you may want to consider using the numpy or scipy libraries. These libraries provide additional capabilities for probability calculations, including functions for working with specific probability distributions like the normal distribution or the binomial distribution.\n",
    "\n",
    "I hope this helps you get started with probability calculations in Python! Let me know if you have any further questions."
   ]
  },
  {
   "cell_type": "code",
   "execution_count": null,
   "id": "9d91a980",
   "metadata": {},
   "outputs": [],
   "source": []
  },
  {
   "cell_type": "code",
   "execution_count": null,
   "id": "02d30561",
   "metadata": {},
   "outputs": [],
   "source": []
  },
  {
   "cell_type": "code",
   "execution_count": null,
   "id": "62f32ff1",
   "metadata": {},
   "outputs": [],
   "source": []
  }
 ],
 "metadata": {
  "kernelspec": {
   "display_name": "Python 3 (ipykernel)",
   "language": "python",
   "name": "python3"
  },
  "language_info": {
   "codemirror_mode": {
    "name": "ipython",
    "version": 3
   },
   "file_extension": ".py",
   "mimetype": "text/x-python",
   "name": "python",
   "nbconvert_exporter": "python",
   "pygments_lexer": "ipython3",
   "version": "3.9.13"
  },
  "toc": {
   "base_numbering": 1,
   "nav_menu": {},
   "number_sections": true,
   "sideBar": true,
   "skip_h1_title": true,
   "title_cell": "Table of Contents",
   "title_sidebar": "Contents",
   "toc_cell": false,
   "toc_position": {},
   "toc_section_display": true,
   "toc_window_display": false
  }
 },
 "nbformat": 4,
 "nbformat_minor": 5
}
