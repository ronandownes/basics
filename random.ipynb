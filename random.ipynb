{
 "cells": [
  {
   "cell_type": "markdown",
   "id": "0b887af6",
   "metadata": {},
   "source": [
    "\n",
    "<a href=\"https://chat.openai.com/share/c39a2721-2c99-49fa-8003-49008725f1d9\">random GPT Chat</a>\n",
    "\n",
    "<a href=\"\n",
    "https://docs.python.org/3/library/random.html\n",
    "         \">random Official</a>"
   ]
  },
  {
   "cell_type": "code",
   "execution_count": 9,
   "id": "01e4e946",
   "metadata": {},
   "outputs": [],
   "source": [
    "import random\n",
    "import numpy as np"
   ]
  },
  {
   "cell_type": "code",
   "execution_count": null,
   "id": "6ff2e462",
   "metadata": {},
   "outputs": [],
   "source": [
    " random.randint(0, 9)"
   ]
  },
  {
   "cell_type": "code",
   "execution_count": null,
   "id": "9ff351df",
   "metadata": {},
   "outputs": [],
   "source": [
    "random.random()"
   ]
  },
  {
   "cell_type": "code",
   "execution_count": null,
   "id": "28ce1bfd",
   "metadata": {},
   "outputs": [],
   "source": [
    "random.uniform(10, 100)"
   ]
  },
  {
   "cell_type": "code",
   "execution_count": null,
   "id": "ab656fee",
   "metadata": {},
   "outputs": [],
   "source": [
    " round(random.uniform(-9, 9), 3)"
   ]
  },
  {
   "cell_type": "code",
   "execution_count": null,
   "id": "83b7510a",
   "metadata": {},
   "outputs": [],
   "source": [
    "np.random.normal(7, 2)"
   ]
  },
  {
   "cell_type": "code",
   "execution_count": null,
   "id": "23af4bef",
   "metadata": {},
   "outputs": [],
   "source": [
    "np.random.normal(10,5)"
   ]
  },
  {
   "cell_type": "code",
   "execution_count": 10,
   "id": "2b255426",
   "metadata": {},
   "outputs": [],
   "source": [
    "my_list = [1, 2, 3, 4, 5]\n",
    "my_list=random.shuffle(my_list)\n",
    "my_list"
   ]
  },
  {
   "cell_type": "code",
   "execution_count": 6,
   "id": "8bf5e9f9",
   "metadata": {},
   "outputs": [
    {
     "ename": "NameError",
     "evalue": "name 'random' is not defined",
     "output_type": "error",
     "traceback": [
      "\u001b[1;31m---------------------------------------------------------------------------\u001b[0m",
      "\u001b[1;31mNameError\u001b[0m                                 Traceback (most recent call last)",
      "\u001b[1;32m~\\AppData\\Local\\Temp\\ipykernel_9428\\1036555503.py\u001b[0m in \u001b[0;36m<module>\u001b[1;34m\u001b[0m\n\u001b[0;32m      1\u001b[0m \u001b[0mmy_list\u001b[0m \u001b[1;33m=\u001b[0m \u001b[1;33m[\u001b[0m\u001b[1;36m1\u001b[0m\u001b[1;33m,\u001b[0m \u001b[1;36m2\u001b[0m\u001b[1;33m,\u001b[0m \u001b[1;36m3\u001b[0m\u001b[1;33m,\u001b[0m \u001b[1;36m4\u001b[0m\u001b[1;33m,\u001b[0m \u001b[1;36m5\u001b[0m\u001b[1;33m]\u001b[0m\u001b[1;33m\u001b[0m\u001b[1;33m\u001b[0m\u001b[0m\n\u001b[1;32m----> 2\u001b[1;33m \u001b[0mrandom\u001b[0m\u001b[1;33m.\u001b[0m\u001b[0mshuffle\u001b[0m\u001b[1;33m(\u001b[0m\u001b[0mmy_list\u001b[0m\u001b[1;33m)\u001b[0m\u001b[1;33m\u001b[0m\u001b[1;33m\u001b[0m\u001b[0m\n\u001b[0m\u001b[0;32m      3\u001b[0m \u001b[0mmy_list\u001b[0m\u001b[1;33m\u001b[0m\u001b[1;33m\u001b[0m\u001b[0m\n\u001b[0;32m      4\u001b[0m \u001b[1;33m\u001b[0m\u001b[0m\n\u001b[0;32m      5\u001b[0m \u001b[1;33m\u001b[0m\u001b[0m\n",
      "\u001b[1;31mNameError\u001b[0m: name 'random' is not defined"
     ]
    }
   ],
   "source": [
    "text = \"Hello, how are you today?\"\n",
    "listy=text.split() \n",
    "\n",
    "text = \"Hello, how are you today?\"\n",
    "text=text.split\n",
    "\n",
    "random.shuffle(listy )"
   ]
  },
  {
   "cell_type": "code",
   "execution_count": null,
   "id": "180560b5",
   "metadata": {},
   "outputs": [],
   "source": [
    "import random\n",
    "\n",
    "def is_prime(n):\n",
    "    \"\"\"Check if a number is prime.\"\"\"\n",
    "    if n <= 1:\n",
    "        return False\n",
    "    elif n <= 3:\n",
    "        return True\n",
    "    elif n % 2 == 0 or n % 3 == 0:\n",
    "        return False\n",
    "    i = 5\n",
    "    while i * i <= n:\n",
    "        if n % i == 0 or n % (i + 2) == 0:\n",
    "            return False\n",
    "        i += 6\n",
    "    return True\n",
    "\n",
    "def generate_random_prime(start, end):\n",
    "    \"\"\"Generate a random prime number between start and end (inclusive).\"\"\"\n",
    "    prime = None\n",
    "    while prime is None or not is_prime(prime):\n",
    "        prime = random.randint(start, end)\n",
    "    return prime\n",
    "\n",
    "# Example usage\n",
    "start = 1\n",
    "end = 44\n",
    "random_prime = generate_random_prime(start, end)\n",
    "print(random_prime)\n"
   ]
  },
  {
   "cell_type": "code",
   "execution_count": null,
   "id": "e22c5e6d",
   "metadata": {},
   "outputs": [],
   "source": [
    "import sympy\n",
    "\n",
    "def generate_random_prime(start, end):\n",
    "    \"\"\"Generate a random prime number between start and end (inclusive).\"\"\"\n",
    "    prime = sympy.randprime(start, end)\n",
    "    return prime\n",
    "\n",
    "# Example usage\n",
    "start = 100\n",
    "end = 1000\n",
    "random_prime = generate_random_prime(start, end)\n",
    "print(random_prime)\n"
   ]
  },
  {
   "cell_type": "code",
   "execution_count": null,
   "id": "62c740fe",
   "metadata": {},
   "outputs": [],
   "source": []
  }
 ],
 "metadata": {
  "kernelspec": {
   "display_name": "Python 3 (ipykernel)",
   "language": "python",
   "name": "python3"
  },
  "language_info": {
   "codemirror_mode": {
    "name": "ipython",
    "version": 3
   },
   "file_extension": ".py",
   "mimetype": "text/x-python",
   "name": "python",
   "nbconvert_exporter": "python",
   "pygments_lexer": "ipython3",
   "version": "3.9.13"
  },
  "toc": {
   "base_numbering": 1,
   "nav_menu": {},
   "number_sections": true,
   "sideBar": true,
   "skip_h1_title": true,
   "title_cell": "Table of Contents",
   "title_sidebar": "Contents",
   "toc_cell": false,
   "toc_position": {},
   "toc_section_display": true,
   "toc_window_display": true
  }
 },
 "nbformat": 4,
 "nbformat_minor": 5
}
