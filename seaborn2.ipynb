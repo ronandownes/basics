{
 "cells": [
  {
   "cell_type": "markdown",
   "id": "9d00b5bb",
   "metadata": {},
   "source": [
    "<a href=\"\n",
    "https://neuronize.dev/seaborn-101-learn-seaborn-in-10-minutes\n",
    "\">\n",
    "Seaborn 101 - Learn Seaborn in 10 Minutes\n",
    "</a>"
   ]
  },
  {
   "cell_type": "code",
   "execution_count": null,
   "id": "0d75f5ca",
   "metadata": {},
   "outputs": [],
   "source": [
    "import numpy as np  \n",
    "import pandas as pd  \n",
    "import seaborn as sns\n",
    "import matplotlib.pyplot as plt"
   ]
  },
  {
   "cell_type": "code",
   "execution_count": null,
   "id": "ff6fc1d3",
   "metadata": {},
   "outputs": [],
   "source": [
    "df = pd.read_csv(\"titanic_data.csv\")"
   ]
  },
  {
   "cell_type": "code",
   "execution_count": null,
   "id": "ffb0581c",
   "metadata": {},
   "outputs": [],
   "source": [
    "df"
   ]
  },
  {
   "cell_type": "code",
   "execution_count": null,
   "id": "555d7e0e",
   "metadata": {},
   "outputs": [],
   "source": [
    "sns.histplot(df[\"age\"])\n",
    "plt.show()"
   ]
  },
  {
   "cell_type": "code",
   "execution_count": null,
   "id": "bd3487cb",
   "metadata": {},
   "outputs": [],
   "source": [
    "sns.histplot(df[\"age\"], bins=10)\n",
    "plt.show()"
   ]
  },
  {
   "cell_type": "code",
   "execution_count": null,
   "id": "b1f19638",
   "metadata": {},
   "outputs": [],
   "source": [
    "sns.jointplot(x=\"age\", y=\"fare\", data=df)\n",
    "plt.show()"
   ]
  },
  {
   "cell_type": "code",
   "execution_count": null,
   "id": "0b703860",
   "metadata": {},
   "outputs": [],
   "source": [
    "df = pd.read_csv(\"housing.csv\")"
   ]
  },
  {
   "cell_type": "code",
   "execution_count": null,
   "id": "06709b52",
   "metadata": {},
   "outputs": [],
   "source": [
    "sns.jointplot(x=\"total_bedrooms\", y=\"households\", data=df)\n",
    "plt.show()"
   ]
  },
  {
   "cell_type": "code",
   "execution_count": null,
   "id": "48b81b87",
   "metadata": {},
   "outputs": [],
   "source": [
    "sns.jointplot(x=\"total_bedrooms\", y=\"households\", data=df, kind='reg')"
   ]
  },
  {
   "cell_type": "code",
   "execution_count": null,
   "id": "bff354fa",
   "metadata": {},
   "outputs": [],
   "source": [
    "sns.pairplot(df)"
   ]
  },
  {
   "cell_type": "code",
   "execution_count": null,
   "id": "c1d91148",
   "metadata": {},
   "outputs": [],
   "source": [
    "sns.barplot(x='ocean_proximity', y='median_house_value', data=df)\n",
    "plt.show()"
   ]
  },
  {
   "cell_type": "code",
   "execution_count": null,
   "id": "d5c65f9d",
   "metadata": {},
   "outputs": [],
   "source": [
    "\n",
    "sns.countplot(data=df, x=\"ocean_proximity\")\n",
    "plt.show()\n"
   ]
  },
  {
   "cell_type": "code",
   "execution_count": null,
   "id": "1fa7da63",
   "metadata": {},
   "outputs": [],
   "source": [
    "sns.boxplot(data=df, x=\"ocean_proximity\", y=\"median_house_value\")"
   ]
  },
  {
   "cell_type": "code",
   "execution_count": null,
   "id": "67ee4e12",
   "metadata": {},
   "outputs": [],
   "source": [
    "sns.violinplot(x=\"ocean_proximity\", y=\"median_house_value\", data=df)"
   ]
  },
  {
   "cell_type": "code",
   "execution_count": null,
   "id": "24167daf",
   "metadata": {},
   "outputs": [],
   "source": [
    "plt.figure(figsize=(12,8))\n",
    "df_corr = df.corr()\n",
    "sns.heatmap(df_corr, annot=True)"
   ]
  },
  {
   "cell_type": "code",
   "execution_count": null,
   "id": "bb02b5d8",
   "metadata": {},
   "outputs": [],
   "source": [
    "df = pd.read_csv(\"titanic_data.csv\")"
   ]
  },
  {
   "cell_type": "code",
   "execution_count": null,
   "id": "f7b23afc",
   "metadata": {},
   "outputs": [],
   "source": [
    "# Create a histogram of Sex using Survived as hue\n",
    "sns.countplot(x='sex', hue='survived', data=df)"
   ]
  },
  {
   "cell_type": "code",
   "execution_count": null,
   "id": "f8b6235d",
   "metadata": {},
   "outputs": [],
   "source": [
    "sns.violinplot(x='sex', y='age', hue='survived', data=df)"
   ]
  },
  {
   "cell_type": "code",
   "execution_count": null,
   "id": "ce7b3624",
   "metadata": {},
   "outputs": [],
   "source": [
    "sns.barplot(x='sex', y='survived', hue='pclass', data=df)"
   ]
  },
  {
   "cell_type": "code",
   "execution_count": null,
   "id": "217f3c7e",
   "metadata": {},
   "outputs": [],
   "source": [
    "sns.set_style(\"darkgrid\")\n",
    "sns.violinplot(x='sex', y='age', hue='survived', data=df)"
   ]
  },
  {
   "cell_type": "code",
   "execution_count": null,
   "id": "43ab6df2",
   "metadata": {},
   "outputs": [],
   "source": [
    "# Create a FacetGrid with two columns based on sex\n",
    "g = sns.FacetGrid(data=df, col='sex')\n",
    "# Map sns.distplot to each subplot with age as x and survived as hue\n",
    "g.map(sns.histplot, 'age', kde=False, palette='set1')\n",
    "# Add a legend and adjust the layout\n",
    "g.add_legend()\n",
    "g.tight_layout()"
   ]
  }
 ],
 "metadata": {
  "kernelspec": {
   "display_name": "Python 3 (ipykernel)",
   "language": "python",
   "name": "python3"
  },
  "language_info": {
   "codemirror_mode": {
    "name": "ipython",
    "version": 3
   },
   "file_extension": ".py",
   "mimetype": "text/x-python",
   "name": "python",
   "nbconvert_exporter": "python",
   "pygments_lexer": "ipython3",
   "version": "3.9.13"
  },
  "toc": {
   "base_numbering": 1,
   "nav_menu": {},
   "number_sections": true,
   "sideBar": true,
   "skip_h1_title": true,
   "title_cell": "Table of Contents",
   "title_sidebar": "Contents",
   "toc_cell": false,
   "toc_position": {},
   "toc_section_display": true,
   "toc_window_display": false
  }
 },
 "nbformat": 4,
 "nbformat_minor": 5
}
