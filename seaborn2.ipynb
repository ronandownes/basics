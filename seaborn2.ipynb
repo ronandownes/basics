{
 "cells": [
  {
   "cell_type": "markdown",
   "id": "f175981e",
   "metadata": {},
   "source": [
    "<a href=\"\n",
    "https://neuronize.dev/seaborn-101-learn-seaborn-in-10-minutes\n",
    "\">\n",
    "Seaborn 101 - Learn Seaborn in 10 Minutes\n",
    "</a>"
   ]
  },
  {
   "cell_type": "code",
   "execution_count": null,
   "id": "3eb57d95",
   "metadata": {},
   "outputs": [],
   "source": [
    "import numpy as np  \n",
    "import pandas as pd  \n",
    "import seaborn as sns\n",
    "import matplotlib.pyplot as plt\n"
   ]
  },
  {
   "cell_type": "code",
   "execution_count": null,
   "id": "e5de01c8",
   "metadata": {},
   "outputs": [],
   "source": [
    "df = pd.read_csv(\"titanic_data.csv\")\n"
   ]
  },
  {
   "cell_type": "code",
   "execution_count": null,
   "id": "8a76e51f",
   "metadata": {},
   "outputs": [],
   "source": [
    "df"
   ]
  },
  {
   "cell_type": "code",
   "execution_count": null,
   "id": "76cd702a",
   "metadata": {},
   "outputs": [],
   "source": [
    "sns.histplot(df[\"age\"])\n",
    "\n",
    "plt.show()\n"
   ]
  },
  {
   "cell_type": "code",
   "execution_count": null,
   "id": "3857bf42",
   "metadata": {},
   "outputs": [],
   "source": [
    "sns.histplot(df[\"age\"], bins=10)\n",
    "\n",
    "plt.show()\n"
   ]
  },
  {
   "cell_type": "code",
   "execution_count": null,
   "id": "3dcd6e42",
   "metadata": {},
   "outputs": [],
   "source": [
    "sns.jointplot(x=\"age\", y=\"fare\", data=df)\n",
    "plt.show()"
   ]
  },
  {
   "cell_type": "code",
   "execution_count": null,
   "id": "309b606c",
   "metadata": {},
   "outputs": [],
   "source": [
    "df = pd.read_csv(\"housing.csv\")"
   ]
  },
  {
   "cell_type": "code",
   "execution_count": null,
   "id": "6e8e2e9a",
   "metadata": {},
   "outputs": [],
   "source": [
    "sns.jointplot(x=\"total_bedrooms\", y=\"households\", data=df)\n",
    "plt.show()\n"
   ]
  },
  {
   "cell_type": "code",
   "execution_count": null,
   "id": "2b7b8f8e",
   "metadata": {},
   "outputs": [],
   "source": [
    "sns.jointplot(x=\"total_bedrooms\", y=\"households\", data=df, kind='reg')\n"
   ]
  },
  {
   "cell_type": "code",
   "execution_count": null,
   "id": "8f8f4a6e",
   "metadata": {},
   "outputs": [],
   "source": [
    "\n",
    "sns.pairplot(df)\n"
   ]
  },
  {
   "cell_type": "code",
   "execution_count": null,
   "id": "27befdee",
   "metadata": {},
   "outputs": [],
   "source": [
    "sns.barplot(x='ocean_proximity', y='median_house_value', data=df)\n",
    "\n",
    "plt.show()\n"
   ]
  },
  {
   "cell_type": "code",
   "execution_count": null,
   "id": "7ae58a89",
   "metadata": {},
   "outputs": [],
   "source": [
    "\n",
    "sns.countplot(data=df, x=\"ocean_proximity\")\n",
    "plt.show()\n"
   ]
  },
  {
   "cell_type": "code",
   "execution_count": null,
   "id": "30c7e547",
   "metadata": {},
   "outputs": [],
   "source": [
    "sns.boxplot(data=df, x=\"ocean_proximity\", y=\"median_house_value\")\n"
   ]
  },
  {
   "cell_type": "code",
   "execution_count": null,
   "id": "efdf6d3e",
   "metadata": {},
   "outputs": [],
   "source": [
    "sns.violinplot(x=\"ocean_proximity\", y=\"median_house_value\", data=df)\n"
   ]
  },
  {
   "cell_type": "code",
   "execution_count": null,
   "id": "0172bf31",
   "metadata": {},
   "outputs": [],
   "source": [
    "plt.figure(figsize=(12,8))\n",
    "\n",
    "df_corr = df.corr()\n",
    "\n",
    "sns.heatmap(df_corr, annot=True)\n"
   ]
  },
  {
   "cell_type": "code",
   "execution_count": null,
   "id": "76b93f9b",
   "metadata": {},
   "outputs": [],
   "source": [
    "df = pd.read_csv(\"titanic_data.csv\")"
   ]
  },
  {
   "cell_type": "code",
   "execution_count": null,
   "id": "b2882fe4",
   "metadata": {},
   "outputs": [],
   "source": [
    "\n",
    "# Create a histogram of Sex using Survived as hue\n",
    "sns.countplot(x='sex', hue='survived', data=df)\n"
   ]
  },
  {
   "cell_type": "code",
   "execution_count": null,
   "id": "12aff1de",
   "metadata": {},
   "outputs": [],
   "source": [
    "sns.violinplot(x='sex', y='age', hue='survived', data=df)\n"
   ]
  },
  {
   "cell_type": "code",
   "execution_count": null,
   "id": "f1569917",
   "metadata": {},
   "outputs": [],
   "source": [
    "sns.barplot(x='sex', y='survived', hue='pclass', data=df)\n"
   ]
  },
  {
   "cell_type": "code",
   "execution_count": null,
   "id": "82010501",
   "metadata": {},
   "outputs": [],
   "source": [
    "sns.set_style(\"darkgrid\")\n",
    "\n",
    "sns.violinplot(x='sex', y='age', hue='survived', data=df)\n"
   ]
  },
  {
   "cell_type": "code",
   "execution_count": null,
   "id": "5a942eb2",
   "metadata": {},
   "outputs": [],
   "source": [
    "\n",
    "# Create a FacetGrid with two columns based on sex\n",
    "\n",
    "g = sns.FacetGrid(data=df, col='sex')\n",
    "\n",
    "\n",
    "\n",
    "# Map sns.distplot to each subplot with age as x and survived as hue\n",
    "\n",
    "g.map(sns.histplot, 'age', kde=False, palette='set1')\n",
    "\n",
    "\n",
    "\n",
    "# Add a legend and adjust the layout\n",
    "\n",
    "g.add_legend()\n",
    "\n",
    "g.tight_layout()\n"
   ]
  },
  {
   "cell_type": "code",
   "execution_count": null,
   "id": "b8ad491f",
   "metadata": {},
   "outputs": [],
   "source": []
  }
 ],
 "metadata": {
  "kernelspec": {
   "display_name": "Python 3 (ipykernel)",
   "language": "python",
   "name": "python3"
  },
  "language_info": {
   "codemirror_mode": {
    "name": "ipython",
    "version": 3
   },
   "file_extension": ".py",
   "mimetype": "text/x-python",
   "name": "python",
   "nbconvert_exporter": "python",
   "pygments_lexer": "ipython3",
   "version": "3.9.13"
  },
  "toc": {
   "base_numbering": 1,
   "nav_menu": {},
   "number_sections": true,
   "sideBar": true,
   "skip_h1_title": true,
   "title_cell": "Table of Contents",
   "title_sidebar": "Contents",
   "toc_cell": false,
   "toc_position": {},
   "toc_section_display": true,
   "toc_window_display": true
  }
 },
 "nbformat": 4,
 "nbformat_minor": 5
}
