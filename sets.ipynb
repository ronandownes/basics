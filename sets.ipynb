{
 "cells": [
  {
   "cell_type": "code",
   "execution_count": 19,
   "id": "d03fa22c",
   "metadata": {},
   "outputs": [
    {
     "name": "stdout",
     "output_type": "stream",
     "text": [
      "{1, 3, 5, 7, 9, 11, 13, 15, 17, 19}\n"
     ]
    }
   ],
   "source": [
    "list1 = {1, 2, 3, 4, 4,4,4,4, 5}\n",
    "primes={2,3,5,7,11,13,17,19}\n",
    "odd_list=[1,3,5,7,9,11,13,15,17,19]\n",
    "odd_set=set(odd_list)\n",
    "print(odd_set)"
   ]
  },
  {
   "cell_type": "markdown",
   "id": "7ae14e1c",
   "metadata": {},
   "source": [
    "In Python, there are several data structures that use round brackets (), square brackets [], and curly braces {}:\n",
    "\n",
    "1. Tuples: Tuples are ordered, immutable collections of items represented using round brackets.\n",
    "   Example: `(1, 2, 3)`\n",
    "\n",
    "2. Lists: Lists are ordered mutable collections of items or elements represented              using square brackets.\n",
    "   Example: `[1, 2, 3]`\n",
    "\n",
    "3. Dictionaries: Dictionaries are unordered collections of key-value pairs. Each key is unique, and it is associated with a value. They are represented using curly braces, with key-value pairs separated by colons (:).\n",
    "   Example: `{'name': 'John', 'age': 25}`\n",
    "\n",
    "4. Sets: Sets are unordered collections of unique elements. They are useful when you want to store a collection of items without any duplicates. Sets are represented using curly braces, but they don't contain key-value pairs like dictionaries.\n",
    "   Example: `{1, 2, 3}`\n",
    "\n",
    "It's important to note that while curly braces ({}) are used for dictionaries and sets, the curly braces alone {} represent an empty dictionary, not an empty set. To create an empty set, you need to use the `set()` function.\n",
    "\n",
    "Additionally, it's worth mentioning that the use of round brackets in Python is not limited to data structures. They are also used for function calls, mathematical expressions, and other purposes.\n",
    "\n",
    "\n",
    "What do sets and dictionaries have in common?\n",
    "\n"
   ]
  },
  {
   "cell_type": "code",
   "execution_count": 20,
   "id": "780c84d8",
   "metadata": {},
   "outputs": [
    {
     "data": {
      "text/plain": [
       "set()"
      ]
     },
     "execution_count": 20,
     "metadata": {},
     "output_type": "execute_result"
    }
   ],
   "source": [
    "empty_set=set()\n",
    "empty_set"
   ]
  },
  {
   "cell_type": "markdown",
   "id": "314054f9",
   "metadata": {},
   "source": [
    "\n",
    "The set() constructor in Python can take an iterable as an argument. An iterable is any object that can be iterated over, such as a list, tuple, string, or another set. The elements of the iterable will be used to initialize the set.\n",
    "\n",
    "Here's an example of creating a set using the set() constructor with an iterable argument:"
   ]
  },
  {
   "cell_type": "code",
   "execution_count": 21,
   "id": "6b61cdba",
   "metadata": {
    "scrolled": true
   },
   "outputs": [
    {
     "name": "stdout",
     "output_type": "stream",
     "text": [
      "{1, 2, 3, 4, 5}\n"
     ]
    }
   ],
   "source": [
    "my_set = set([1, 2, 3, 4, 5])\n",
    "print(my_set)"
   ]
  },
  {
   "cell_type": "code",
   "execution_count": 22,
   "id": "7fee45f5",
   "metadata": {},
   "outputs": [
    {
     "name": "stdout",
     "output_type": "stream",
     "text": [
      "{'h', 's', 'w', 't', 'a', 'm', 'i', 'd', 'o', 'r', ' ', 'y', 'x', 'e'}\n"
     ]
    }
   ],
   "source": [
    "text_set = set(\"my text what order is this is\")\n",
    "print(text_set)\n"
   ]
  },
  {
   "cell_type": "markdown",
   "id": "47e45c0a",
   "metadata": {},
   "source": [
    "In the example above, the list [1, 2, 3, 4, 5] is passed as an argument to the set() constructor, and it initializes the set with the elements from the list.\n",
    "\n",
    "Alternatively, you can pass other iterables like strings or tuples:"
   ]
  },
  {
   "cell_type": "code",
   "execution_count": 5,
   "id": "af0d5046",
   "metadata": {},
   "outputs": [
    {
     "name": "stdout",
     "output_type": "stream",
     "text": [
      "{'e', 'l', 'o', 'H'}\n"
     ]
    }
   ],
   "source": [
    "my_set = set(\"Hello\")\n",
    "print(my_set)\n"
   ]
  },
  {
   "cell_type": "markdown",
   "id": "9f123973",
   "metadata": {},
   "source": [
    "In the example above, the string \"Hello\" is passed as an argument to the set() constructor, and it initializes the set with the unique characters from the string.\n",
    "\n",
    "If no argument is provided, the set() constructor creates an empty set.\n",
    "\n",
    "Note that when passing a single iterable argument, the set() constructor will extract the unique elements from that iterable. If the iterable contains duplicate elements, only one instance of each element will be included in the resulting set."
   ]
  },
  {
   "cell_type": "code",
   "execution_count": 6,
   "id": "2e968926",
   "metadata": {},
   "outputs": [
    {
     "name": "stdout",
     "output_type": "stream",
     "text": [
      "{1, 2, 3, 4, 5}\n"
     ]
    }
   ],
   "source": [
    "my_list = [1, 2, 3, 4, 4, 5]\n",
    "my_set = set(my_list)\n",
    "print(my_set)  # prints {1, 2, 3, 4, 5}\n"
   ]
  },
  {
   "cell_type": "code",
   "execution_count": 9,
   "id": "bf91c956",
   "metadata": {},
   "outputs": [
    {
     "name": "stdout",
     "output_type": "stream",
     "text": [
      "union_set =  {1, 2, 3, 5, 7, 9, 11, 13, 17}\n",
      "intersection_set =  {3, 5, 7, 11, 13}\n"
     ]
    }
   ],
   "source": [
    "odd_set = {1, 3, 5, 7, 9,11,13}\n",
    "prime_set = {2, 3, 5, 7, 11,13,17}\n",
    "union_set = odd_set.union(prime_set)\n",
    "intersection_set= odd_set.intersection(prime_set)\n",
    "print('union_set = ',union_set)\n",
    "print('intersection_set = ',intersection_set)"
   ]
  },
  {
   "cell_type": "markdown",
   "id": "43fd5b3d",
   "metadata": {},
   "source": [
    "Certainly! Let's explore everything you\n",
    "need to know about Python sets and see some example code along the way.\n",
    "\n",
    "1. Creating Sets:\n",
    "   Sets are unordered collections of unique elements. You can create a set in Python using curly braces `{}` or the `set()` function. Here's an example:\n",
    "   \n",
    "   ```python"
   ]
  },
  {
   "cell_type": "code",
   "execution_count": 10,
   "id": "028ef0c7",
   "metadata": {},
   "outputs": [
    {
     "name": "stdout",
     "output_type": "stream",
     "text": [
      "{'apple', 'orange', 'banana'}\n",
      "{'blue', 'green', 'red'}\n"
     ]
    }
   ],
   "source": [
    "   # Creating a set using curly braces\n",
    "   fruits = {'apple', 'banana', 'orange'}\n",
    "   print(fruits)  # Output: {'apple', 'banana', 'orange'}\n",
    "   \n",
    "   # Creating a set using the set() function\n",
    "   colors = set(['red', 'green', 'blue'])\n",
    "   print(colors)  # Output: {'red', 'green', 'blue'}"
   ]
  },
  {
   "cell_type": "markdown",
   "id": "e233a9d8",
   "metadata": {},
   "source": [
    "2. Adding Elements to a Set:\n",
    "   You can add elements to a set using the `add()` method. Here's an example:\n",
    "   "
   ]
  },
  {
   "cell_type": "code",
   "execution_count": 11,
   "id": "ec46020c",
   "metadata": {},
   "outputs": [
    {
     "name": "stdout",
     "output_type": "stream",
     "text": [
      "{'apple', 'orange', 'banana'}\n"
     ]
    }
   ],
   "source": [
    "   fruits = {'apple', 'banana'}\n",
    "   fruits.add('orange')\n",
    "   print(fruits)  # Output: {'apple', 'banana', 'orange'}"
   ]
  },
  {
   "cell_type": "markdown",
   "id": "fc115580",
   "metadata": {},
   "source": [
    "3. Removing Elements from a Set:\n",
    "   To remove elements from a set, you can use the `remove()` method. If the element doesn't exist in the set, it will raise a `KeyError`. Alternatively, you can use the `discard()` method, which won't raise an error if the element doesn't exist. Here's an example:\n",
    "   \n",
    "   ```python"
   ]
  },
  {
   "cell_type": "code",
   "execution_count": 12,
   "id": "fbcf36fc",
   "metadata": {},
   "outputs": [
    {
     "name": "stdout",
     "output_type": "stream",
     "text": [
      "{'blue', 'red'}\n"
     ]
    }
   ],
   "source": [
    "   colors = {'red', 'green', 'blue'}\n",
    "   colors.remove('green')\n",
    "   print(colors)  # Output: {'red', 'blue'}\n",
    "   \n",
    "   colors.discard('yellow')  # No error raised"
   ]
  },
  {
   "cell_type": "markdown",
   "id": "1f7a50bd",
   "metadata": {},
   "source": [
    "4. Set Operations:\n",
    "   Sets support various operations like union, intersection, difference, and more. These operations can be performed using methods or operators. Here are some examples:\n",
    "   "
   ]
  },
  {
   "cell_type": "code",
   "execution_count": 17,
   "id": "a613c7f2",
   "metadata": {},
   "outputs": [],
   "source": [
    "   set1 = {1, 2, 3,3,3,3,}\n",
    "   set2 = {3, 4, 5}\n",
    "   set3=set()"
   ]
  },
  {
   "cell_type": "code",
   "execution_count": 18,
   "id": "f735bd4d",
   "metadata": {},
   "outputs": [
    {
     "name": "stdout",
     "output_type": "stream",
     "text": [
      "{1, 2, 3, 4, 5}\n"
     ]
    },
    {
     "data": {
      "text/plain": [
       "set()"
      ]
     },
     "execution_count": 18,
     "metadata": {},
     "output_type": "execute_result"
    }
   ],
   "source": [
    "   # Union\n",
    "   union = set1.union(set2)\n",
    "   print(union)  # Output: {1, 2, 3, 4, 5}\n",
    "   set3"
   ]
  },
  {
   "cell_type": "code",
   "execution_count": 13,
   "id": "de068941",
   "metadata": {},
   "outputs": [
    {
     "ename": "SyntaxError",
     "evalue": "invalid syntax (1056380874.py, line 1)",
     "output_type": "error",
     "traceback": [
      "\u001b[1;36m  File \u001b[1;32m\"C:\\Users\\ronan\\AppData\\Local\\Temp\\ipykernel_2496\\1056380874.py\"\u001b[1;36m, line \u001b[1;32m1\u001b[0m\n\u001b[1;33m    4. Set Operations:\u001b[0m\n\u001b[1;37m       ^\u001b[0m\n\u001b[1;31mSyntaxError\u001b[0m\u001b[1;31m:\u001b[0m invalid syntax\n"
     ]
    }
   ],
   "source": [
    "   # Intersection\n",
    "   intersection = set1.intersection(set2)\n",
    "   print(intersection)  # Output: {3}\n",
    "   \n",
    "   # Difference\n",
    "   difference = set1.difference(set2)\n",
    "   print(difference)  # Output: {1, 2}\n",
    "   \n",
    "   # Symmetric Difference\n",
    "   symmetric_difference = set1.symmetric_difference(set2)\n",
    "   print(symmetric_difference)  # Output: {1, 2, 4, 5}\n",
    "   ```\n",
    "\n",
    "5. Set Membership and Length:\n",
    "   You can check if an element is present in a set using the `in` keyword. Additionally, you can find the length of a set using the `len()` function. Here's an example:\n",
    "   \n",
    "   ```python\n",
    "   fruits = {'apple', 'banana', 'orange'}\n",
    "   \n",
    "   print('apple' in fruits)  # Output: True\n",
    "   print('grape' in fruits)  # Output: False\n",
    "   \n",
    "   print(len(fruits))  # Output: 3\n",
    "   ```\n",
    "\n",
    "6. Iterating over a Set:\n",
    "   You can iterate over the elements of a set using a for loop. However, since sets are unordered, the order of iteration is not guaranteed. Here's an example:\n",
    "   \n",
    "   ```python\n",
    "   colors = {'red', 'green', 'blue'}\n",
    "   \n",
    "   for color in colors:\n",
    "       print(color)\n",
    "   ```\n",
    "   \n",
    "   Output (order may vary): \n",
    "   ```\n",
    "   green\n",
    "   blue\n",
    "   red\n",
    "   ```\n",
    "\n",
    "Sets in Python are useful for storing unique elements, performing set operations"
   ]
  },
  {
   "cell_type": "code",
   "execution_count": null,
   "id": "ee25ab5d",
   "metadata": {},
   "outputs": [],
   "source": []
  },
  {
   "cell_type": "code",
   "execution_count": null,
   "id": "a5957f73",
   "metadata": {},
   "outputs": [],
   "source": []
  }
 ],
 "metadata": {
  "kernelspec": {
   "display_name": "Python 3 (ipykernel)",
   "language": "python",
   "name": "python3"
  },
  "language_info": {
   "codemirror_mode": {
    "name": "ipython",
    "version": 3
   },
   "file_extension": ".py",
   "mimetype": "text/x-python",
   "name": "python",
   "nbconvert_exporter": "python",
   "pygments_lexer": "ipython3",
   "version": "3.9.13"
  },
  "toc": {
   "base_numbering": 1,
   "nav_menu": {},
   "number_sections": true,
   "sideBar": true,
   "skip_h1_title": true,
   "title_cell": "Table of Contents",
   "title_sidebar": "Contents",
   "toc_cell": false,
   "toc_position": {},
   "toc_section_display": true,
   "toc_window_display": true
  }
 },
 "nbformat": 4,
 "nbformat_minor": 5
}
