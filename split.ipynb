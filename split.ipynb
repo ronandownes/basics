{
 "cells": [
  {
   "cell_type": "markdown",
   "id": "7f70015b",
   "metadata": {},
   "source": [
    "\n",
    "<a href=\"            \">        </a>"
   ]
  },
  {
   "cell_type": "markdown",
   "id": "d78bbec2",
   "metadata": {},
   "source": [
    "<a href=\" \n",
    "         https://chat.openai.com/share/0684869c-37f0-45de-a627-2f509c453dac  \n",
    "         \">  Split GPT Chat</a>"
   ]
  },
  {
   "cell_type": "code",
   "execution_count": 1,
   "id": "0ad0a78a",
   "metadata": {},
   "outputs": [
    {
     "name": "stdout",
     "output_type": "stream",
     "text": [
      "['Hello,', 'World!', 'This', 'is', 'a', 'sample', 'string.']\n"
     ]
    }
   ],
   "source": [
    "string = \"Hello, World! This is a sample string.\"\n",
    "parts = string.split()\n",
    "print(parts)\n"
   ]
  },
  {
   "cell_type": "code",
   "execution_count": 2,
   "id": "59963a18",
   "metadata": {},
   "outputs": [
    {
     "name": "stdout",
     "output_type": "stream",
     "text": [
      "['Apple', 'Banana', 'Orange', 'Mango']\n"
     ]
    }
   ],
   "source": [
    "string = \"Apple,Banana,Orange,Mango\"\n",
    "fruits = string.split(\",\")\n",
    "print(fruits)\n"
   ]
  },
  {
   "cell_type": "code",
   "execution_count": 20,
   "id": "4fed88bf",
   "metadata": {},
   "outputs": [
    {
     "data": {
      "text/plain": [
       "['I', 'am', 'here']"
      ]
     },
     "execution_count": 20,
     "metadata": {},
     "output_type": "execute_result"
    }
   ],
   "source": [
    "my_string=\"I am here\"\n",
    "my_string.split(\" \")"
   ]
  },
  {
   "cell_type": "code",
   "execution_count": null,
   "id": "fff54019",
   "metadata": {},
   "outputs": [],
   "source": []
  },
  {
   "cell_type": "code",
   "execution_count": null,
   "id": "c70cd3c5",
   "metadata": {},
   "outputs": [],
   "source": []
  }
 ],
 "metadata": {
  "kernelspec": {
   "display_name": "Python 3 (ipykernel)",
   "language": "python",
   "name": "python3"
  },
  "language_info": {
   "codemirror_mode": {
    "name": "ipython",
    "version": 3
   },
   "file_extension": ".py",
   "mimetype": "text/x-python",
   "name": "python",
   "nbconvert_exporter": "python",
   "pygments_lexer": "ipython3",
   "version": "3.9.13"
  },
  "toc": {
   "base_numbering": 1,
   "nav_menu": {},
   "number_sections": true,
   "sideBar": true,
   "skip_h1_title": true,
   "title_cell": "Table of Contents",
   "title_sidebar": "Contents",
   "toc_cell": false,
   "toc_position": {},
   "toc_section_display": true,
   "toc_window_display": true
  }
 },
 "nbformat": 4,
 "nbformat_minor": 5
}
